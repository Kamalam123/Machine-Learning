{
 "cells": [
  {
   "cell_type": "markdown",
   "metadata": {},
   "source": [
    "Objective:\n",
    "    To determine k value(number of nearest neighbors) and accuracy by applying 10 fold cross validation for Amazon food review dataset using three feature to vectorization techniques namely BoW, Average w2v and tf_idf weighted w2v.\n",
    "    Algorithms used: Kd_tree and brute\n",
    "    \n",
    " Note:\n",
    "    Sampled 60000 datapoints for BoW, Average w2v and tf_idf weighted w2v.\n",
    "    Attaching separate file for TFIDF only, since 5000 datapoints are taken for TFIDF due to memory error.\n",
    "    "
   ]
  },
  {
   "cell_type": "code",
   "execution_count": 9,
   "metadata": {},
   "outputs": [],
   "source": [
    "%matplotlib inline\n",
    "import warnings\n",
    "warnings.filterwarnings(\"ignore\")\n",
    "\n",
    "import sqlite3\n",
    "import pandas as pd\n",
    "import numpy as np\n",
    "import nltk\n",
    "import string\n",
    "import matplotlib.pyplot as plt\n",
    "import seaborn as sns\n",
    "from sklearn.feature_extraction.text import TfidfTransformer\n",
    "from sklearn.feature_extraction.text import TfidfVectorizer\n",
    "\n",
    "from sklearn.feature_extraction.text import CountVectorizer\n",
    "from sklearn.metrics import confusion_matrix\n",
    "from sklearn import metrics\n",
    "from sklearn.metrics import roc_curve, auc\n",
    "from nltk.stem.porter import PorterStemmer\n",
    "\n",
    "\n",
    "import re\n",
    "# Tutorial about Python regular expressions: https://pymotw.com/2/re/\n",
    "import string\n",
    "from nltk.corpus import stopwords\n",
    "from nltk.stem import PorterStemmer\n",
    "from nltk.stem.wordnet import WordNetLemmatizer\n",
    "\n",
    "from gensim.models import Word2Vec\n",
    "from gensim.models import KeyedVectors\n",
    "import pickle\n",
    "\n",
    "from tqdm import tqdm\n",
    "import os\n",
    "\n",
    "\n",
    "\n",
    "# ============================== loading libraries ===========================================\n",
    "import numpy as np\n",
    "import pandas as pd\n",
    "import matplotlib.pyplot as plt\n",
    "from sklearn.cross_validation import train_test_split\n",
    "from sklearn.neighbors import KNeighborsClassifier\n",
    "from sklearn.metrics import accuracy_score\n",
    "from sklearn.cross_validation import cross_val_score\n",
    "from collections import Counter\n",
    "from sklearn.metrics import accuracy_score\n",
    "from sklearn import cross_validation\n",
    "# ============================================================================================="
   ]
  },
  {
   "cell_type": "code",
   "execution_count": 2,
   "metadata": {},
   "outputs": [
    {
     "name": "stdout",
     "output_type": "stream",
     "text": [
      "Number of data points in our data (525814, 10)\n"
     ]
    },
    {
     "data": {
      "text/html": [
       "<div>\n",
       "<style scoped>\n",
       "    .dataframe tbody tr th:only-of-type {\n",
       "        vertical-align: middle;\n",
       "    }\n",
       "\n",
       "    .dataframe tbody tr th {\n",
       "        vertical-align: top;\n",
       "    }\n",
       "\n",
       "    .dataframe thead th {\n",
       "        text-align: right;\n",
       "    }\n",
       "</style>\n",
       "<table border=\"1\" class=\"dataframe\">\n",
       "  <thead>\n",
       "    <tr style=\"text-align: right;\">\n",
       "      <th></th>\n",
       "      <th>Id</th>\n",
       "      <th>ProductId</th>\n",
       "      <th>UserId</th>\n",
       "      <th>ProfileName</th>\n",
       "      <th>HelpfulnessNumerator</th>\n",
       "      <th>HelpfulnessDenominator</th>\n",
       "      <th>Score</th>\n",
       "      <th>Time</th>\n",
       "      <th>Summary</th>\n",
       "      <th>Text</th>\n",
       "    </tr>\n",
       "  </thead>\n",
       "  <tbody>\n",
       "    <tr>\n",
       "      <th>0</th>\n",
       "      <td>1</td>\n",
       "      <td>B001E4KFG0</td>\n",
       "      <td>A3SGXH7AUHU8GW</td>\n",
       "      <td>delmartian</td>\n",
       "      <td>1</td>\n",
       "      <td>1</td>\n",
       "      <td>1</td>\n",
       "      <td>1303862400</td>\n",
       "      <td>Good Quality Dog Food</td>\n",
       "      <td>I have bought several of the Vitality canned d...</td>\n",
       "    </tr>\n",
       "    <tr>\n",
       "      <th>1</th>\n",
       "      <td>2</td>\n",
       "      <td>B00813GRG4</td>\n",
       "      <td>A1D87F6ZCVE5NK</td>\n",
       "      <td>dll pa</td>\n",
       "      <td>0</td>\n",
       "      <td>0</td>\n",
       "      <td>0</td>\n",
       "      <td>1346976000</td>\n",
       "      <td>Not as Advertised</td>\n",
       "      <td>Product arrived labeled as Jumbo Salted Peanut...</td>\n",
       "    </tr>\n",
       "    <tr>\n",
       "      <th>2</th>\n",
       "      <td>3</td>\n",
       "      <td>B000LQOCH0</td>\n",
       "      <td>ABXLMWJIXXAIN</td>\n",
       "      <td>Natalia Corres \"Natalia Corres\"</td>\n",
       "      <td>1</td>\n",
       "      <td>1</td>\n",
       "      <td>1</td>\n",
       "      <td>1219017600</td>\n",
       "      <td>\"Delight\" says it all</td>\n",
       "      <td>This is a confection that has been around a fe...</td>\n",
       "    </tr>\n",
       "  </tbody>\n",
       "</table>\n",
       "</div>"
      ],
      "text/plain": [
       "   Id   ProductId          UserId                      ProfileName  \\\n",
       "0   1  B001E4KFG0  A3SGXH7AUHU8GW                       delmartian   \n",
       "1   2  B00813GRG4  A1D87F6ZCVE5NK                           dll pa   \n",
       "2   3  B000LQOCH0   ABXLMWJIXXAIN  Natalia Corres \"Natalia Corres\"   \n",
       "\n",
       "   HelpfulnessNumerator  HelpfulnessDenominator  Score        Time  \\\n",
       "0                     1                       1      1  1303862400   \n",
       "1                     0                       0      0  1346976000   \n",
       "2                     1                       1      1  1219017600   \n",
       "\n",
       "                 Summary                                               Text  \n",
       "0  Good Quality Dog Food  I have bought several of the Vitality canned d...  \n",
       "1      Not as Advertised  Product arrived labeled as Jumbo Salted Peanut...  \n",
       "2  \"Delight\" says it all  This is a confection that has been around a fe...  "
      ]
     },
     "execution_count": 2,
     "metadata": {},
     "output_type": "execute_result"
    }
   ],
   "source": [
    "# using the SQLite Table to read data.\n",
    "con = sqlite3.connect('database.sqlite') \n",
    "#filtering only positive and negative reviews i.e. \n",
    "# not taking into consideration those reviews with Score=3\n",
    "filtered_data = pd.read_sql_query(\"\"\" SELECT * FROM Reviews WHERE Score != 3 \"\"\", con) \n",
    "\n",
    "\n",
    "# Give reviews with Score>3 a positive rating, and reviews with a score<3 a negative rating.\n",
    "def partition(x):\n",
    "    if x < 3:\n",
    "        return 0\n",
    "    return 1\n",
    "\n",
    "#changing reviews with score less than 3 to be positive and vice-versa\n",
    "actualScore = filtered_data['Score']\n",
    "positiveNegative = actualScore.map(partition) \n",
    "filtered_data['Score'] = positiveNegative\n",
    "print(\"Number of data points in our data\", filtered_data.shape)\n",
    "filtered_data.head(3)"
   ]
  },
  {
   "cell_type": "code",
   "execution_count": 3,
   "metadata": {},
   "outputs": [],
   "source": [
    "#Sorting data according to Time in ascending order\n",
    "sorted_data=filtered_data.sort_values('Time', axis=0, ascending=True, inplace=False, kind='quicksort', na_position='last')\n",
    "#sorted_data.head"
   ]
  },
  {
   "cell_type": "code",
   "execution_count": 4,
   "metadata": {},
   "outputs": [
    {
     "data": {
      "text/plain": [
       "1    443777\n",
       "0     82037\n",
       "Name: Score, dtype: int64"
      ]
     },
     "execution_count": 4,
     "metadata": {},
     "output_type": "execute_result"
    }
   ],
   "source": [
    "sorted_data['Score'].value_counts()"
   ]
  },
  {
   "cell_type": "code",
   "execution_count": 5,
   "metadata": {},
   "outputs": [],
   "source": [
    "#Selecting top 60k points\n",
    "final_data = sorted_data[0:60000:]\n",
    "y = final_data['Score']\n",
    "#final_data.head"
   ]
  },
  {
   "cell_type": "code",
   "execution_count": 6,
   "metadata": {},
   "outputs": [
    {
     "name": "stdout",
     "output_type": "stream",
     "text": [
      "14\n",
      "What happens when you say his name three times? Michael Keaten stars in this comedy about two couples that live in an old two story house.  While coming back from a supply store, the couple suddenly get caught inside of a  &quot;broken-up&quot; bridge and then just before they start to tumble down  into the lake, a board catches them.  But just when they've got their hopes  up, and small dog steps on the board and the car starts to slide off the  bridge and into the lake waters.  A few minutes later...<p>They find  themselves back into their home, they find that somehow somehad light the  fireplace, as if done by magic.  From then on, they find a weird-looking  dead guy known as Bettlejuice.  The only way they can get him for help is  to call him by his name three times and he will appear at their survice.  But they soon wish that they have never called his name, because  Bettlejuice was once a troublemaker but he is the only one who can save  them, on the account that they said his name three times.  They can't leave  their houses or else they will find theirselves in another world with giant  sandworms.  This is a stellar comedy that you should see! Michael Keaton is  awesome as he plays the leading role of Bettlejuice.\n"
     ]
    }
   ],
   "source": [
    "# find sentences containing HTML tags\n",
    "import re\n",
    "i=0;\n",
    "for sent in final_data['Text'].values:\n",
    "    if (len(re.findall('<.*?>', sent))):\n",
    "        print(i)\n",
    "        print(sent)\n",
    "        break;\n",
    "    i += 1;"
   ]
  },
  {
   "cell_type": "code",
   "execution_count": 7,
   "metadata": {},
   "outputs": [
    {
     "name": "stdout",
     "output_type": "stream",
     "text": [
      "{'those', 's', 'yours', 'further', 'an', 'yourselves', 'themselves', 'she', 'as', 'from', \"it's\", 'aren', 'are', 'ours', 'only', 'down', \"hadn't\", 'this', 'own', \"wasn't\", 'under', 'with', 'if', 'then', 'out', 'didn', 'for', 'who', 'ain', \"should've\", 'above', 'now', \"you're\", 'our', 'had', 'no', 'your', 'does', 'few', 'her', 'it', 'here', 'mightn', 'you', \"needn't\", 'their', \"she's\", 'been', \"isn't\", 'them', 'that', 'is', 'a', 'when', 'they', 'd', 'my', 'where', 'can', 've', 'shan', 'won', 'hers', 'too', 'some', 'did', 'of', 'each', \"hasn't\", 'shouldn', 'and', 'nor', 'up', 'were', 'don', 'should', 'y', \"won't\", 'am', \"that'll\", 'both', 'doing', 'm', 'at', 'there', 'what', 'its', 'by', 'mustn', 'or', 're', \"couldn't\", 'hasn', 'ma', 'after', 'so', 'very', 'theirs', \"shouldn't\", 'such', 'll', \"you've\", 'not', 'himself', 'do', 'into', \"weren't\", 'why', \"you'll\", 'wouldn', 'his', 'over', 'myself', 'i', 'before', 'whom', \"mightn't\", 'during', 'below', 'being', 'o', 'in', 'wasn', \"doesn't\", 'have', 'having', 'again', 'haven', 'any', \"don't\", \"didn't\", 'weren', 'off', 'between', 'all', 'these', 'than', 'until', \"aren't\", 'to', 't', 'on', 'just', \"mustn't\", 'herself', 'how', 'most', 'ourselves', 'because', 'doesn', 'same', 'he', 'which', 'we', 'me', 'has', \"shan't\", \"you'd\", 'but', 'itself', 'through', 'isn', 'other', 'couldn', 'more', 'against', 'about', 'will', \"haven't\", \"wouldn't\", 'was', 'needn', 'him', 'hadn', 'while', 'yourself', 'once', 'the', 'be'}\n",
      "************************************\n",
      "beauti\n"
     ]
    }
   ],
   "source": [
    "stop = set(stopwords.words('english')) #set of stopwords\n",
    "sno = nltk.stem.SnowballStemmer('english') #initialising the snowball stemmer\n",
    "\n",
    "def cleanhtml(sentence): #function to clean the word of any html-tags\n",
    "    cleanr = re.compile('<.*?>')\n",
    "    cleantext = re.sub(cleanr, ' ', sentence)\n",
    "    return cleantext\n",
    "def cleanpunc(sentence): #function to clean the word of any punctuation or special characters\n",
    "    cleaned = re.sub(r'[?|!|\\'|\"|#]',r'',sentence)\n",
    "    cleaned = re.sub(r'[.|,|)|(|\\|/]',r' ',cleaned)\n",
    "    return  cleaned\n",
    "print(stop)\n",
    "print('************************************')\n",
    "print(sno.stem('beautiful'))"
   ]
  },
  {
   "cell_type": "code",
   "execution_count": 8,
   "metadata": {},
   "outputs": [
    {
     "name": "stderr",
     "output_type": "stream",
     "text": [
      "100%|██████████| 60000/60000 [01:38<00:00, 609.63it/s]\n"
     ]
    },
    {
     "name": "stdout",
     "output_type": "stream",
     "text": [
      "['Id' 'ProductId' 'UserId' 'ProfileName' 'HelpfulnessNumerator'\n",
      " 'HelpfulnessDenominator' 'Score' 'Time' 'Summary' 'Text' 'CleanedText']\n"
     ]
    }
   ],
   "source": [
    "if not os.path.isfile('final.sqlite'):\n",
    "    i=0\n",
    "    str1=' '\n",
    "    final_string=[]\n",
    "    all_positive_words=[] # store words from +ve reviews here\n",
    "    all_negative_words=[] # store words from -ve reviews here.\n",
    "    s=''\n",
    "    #print(final['Text'].head)\n",
    "    #print(final['Text'].shape)\n",
    "    for sent in tqdm(final_data['Text'].values):\n",
    "        filtered_sentence=[]\n",
    "        #print(sent);\n",
    "        sent=cleanhtml(sent) # remove HTMl tags\n",
    "        for w in sent.split():\n",
    "            for cleaned_words in cleanpunc(w).split():\n",
    "                if((cleaned_words.isalpha()) & (len(cleaned_words)>2)): \n",
    "                    #print(\"First If condition Passed\")\n",
    "                    if(cleaned_words.lower() not in stop):\n",
    "                        #print(\"Word is not a stopword\")\n",
    "                        s=(sno.stem(cleaned_words.lower())).encode('utf8')\n",
    "                        #print(s)\n",
    "                        filtered_sentence.append(s)\n",
    "                        # (final['Score'].values)[i] == 'positive': \n",
    "                        if (final_data['Score'].values)[i] == 1: \n",
    "                            #print(\"Positive word found\")\n",
    "                            all_positive_words.append(s) #list of all words used to describe positive reviews\n",
    "                        #if(final['Score'].values)[i] == 'negative':\n",
    "                        if(final_data['Score'].values)[i] == 0:\n",
    "                            #print(\"Negative word found\")\n",
    "                            all_negative_words.append(s) #list of all words used to describe negative reviews reviews\n",
    "                    else:\n",
    "                        continue\n",
    "                else:\n",
    "                    continue \n",
    "        #print(filtered_sentence)\n",
    "        str1 = b\" \".join(filtered_sentence) #final string of cleaned words\n",
    "        #str1\n",
    "        #print(\"***********************************************************************\")\n",
    "\n",
    "        final_string.append(str1)\n",
    "        i+=1\n",
    "\n",
    "    #############---- storing the data into .sqlite file ------########################\n",
    "    final_data['CleanedText']=final_string #adding a column of CleanedText which displays the data after pre-processing of the review \n",
    "    final_data['CleanedText']=final_data['CleanedText'].str.decode(\"utf-8\")\n",
    "    #print(final['CleanedText'])\n",
    "    #print(final.shape)\n",
    "    print(final_data.columns.values)\n",
    "\n",
    "    \n",
    "        # store final table into an SQlLite table for future.\n",
    "    conn = sqlite3.connect('final.sqlite')\n",
    "    c=conn.cursor()\n",
    "    conn.text_factory = str\n",
    "    sorted_data.to_sql('Reviews', conn,  schema=None, if_exists='replace', \\\n",
    "                 index=True, index_label=None, chunksize=None, dtype=None)\n",
    "    conn.close()\n",
    "    \n",
    "    \n",
    "    \n",
    "    with open('positive_words.pkl', 'wb') as f:\n",
    "        pickle.dump(all_positive_words, f)\n",
    "    with open('negitive_words.pkl', 'wb') as f:\n",
    "        pickle.dump(all_negative_words, f)\n",
    "\n",
    "#print(all_positive_words)\n",
    "#print(all_negative_words)"
   ]
  },
  {
   "cell_type": "code",
   "execution_count": 11,
   "metadata": {},
   "outputs": [
    {
     "name": "stdout",
     "output_type": "stream",
     "text": [
      "(48000, 11) (48000,)\n",
      "(12000, 11) (12000,)\n",
      "(38400, 11) (38400,)\n",
      "(9600, 11) (9600,)\n"
     ]
    }
   ],
   "source": [
    "#Splitting into train and test (80:20)\n",
    "X_train, X_test, y_train, y_test = train_test_split(final_data, y, test_size=0.2)\n",
    "print(X_train.shape, y_train.shape)\n",
    "print(X_test.shape, y_test.shape)\n",
    "\n",
    "#import pickle as pkl\n",
    "\n",
    "#to save it\n",
    "#with open(\"train.pkl\", \"w\") as f:\n",
    "#    pkl.dump([X_train], f)\n",
    "\n",
    "\n",
    "#Splitting train data into train and cv(60:20)\n",
    "X_tr, X_cv, y_tr, y_cv = train_test_split(X_train, y_train, test_size=0.2)\n",
    "print(X_tr.shape, y_tr.shape)\n",
    "print(X_cv.shape, y_cv.shape)\n"
   ]
  },
  {
   "cell_type": "code",
   "execution_count": 16,
   "metadata": {},
   "outputs": [
    {
     "name": "stdout",
     "output_type": "stream",
     "text": [
      "(12000, 21091)\n",
      "(9600, 21091)\n",
      "(38400, 21091)\n"
     ]
    }
   ],
   "source": [
    "#Applying BoW\n",
    "#X_tr['CleanedText'].head\n",
    "model = CountVectorizer()\n",
    "model.fit(X_tr['CleanedText'])\n",
    "train_bow = model.transform(X_tr['CleanedText'])\n",
    "cv_bow = model.transform(X_cv['CleanedText'])\n",
    "test_bow = model.transform(X_test['CleanedText'])\n",
    "print(test_bow.shape)\n",
    "print(cv_bow.shape)\n",
    "print(train_bow.shape)"
   ]
  },
  {
   "cell_type": "markdown",
   "metadata": {},
   "source": [
    "There are 21091 unique words for train, test and cv dataset"
   ]
  },
  {
   "cell_type": "code",
   "execution_count": 11,
   "metadata": {},
   "outputs": [],
   "source": [
    "#function to save sparse matrices to a file\n",
    "from scipy.sparse import csr_matrix\n",
    "\n",
    "def save_sparse_csr(filename, array):\n",
    "    # note that .npz extension is added automatically\n",
    "    np.savez(filename, data=array.data, indices=array.indices,\n",
    "             indptr=array.indptr, shape=array.shape)"
   ]
  },
  {
   "cell_type": "code",
   "execution_count": 12,
   "metadata": {},
   "outputs": [],
   "source": [
    "save_sparse_csr('Train_sparse',train_bow)\n",
    "save_sparse_csr('Test_sparse',test_bow)\n",
    "save_sparse_csr('CV_sparse',cv_bow)"
   ]
  },
  {
   "cell_type": "code",
   "execution_count": 29,
   "metadata": {},
   "outputs": [],
   "source": [
    "#function to calculate 10 fold cross validation with brute algorithm\n",
    "#Fitting the model on cross validation dataset and predicting the error on test dataset\n",
    "\n",
    "def knn_brute(Train,Test):\n",
    "    \n",
    "    \n",
    "    # creating odd list of K for KNN\n",
    "    myList = list(range(0,50))\n",
    "    neighbors = list(filter(lambda x: x % 2 != 0, myList))\n",
    "\n",
    "    # empty list that will hold cv scores\n",
    "    cv_scores = []\n",
    "\n",
    "    # perform 10-fold cross validation\n",
    "    for k in neighbors:\n",
    "        knn = KNeighborsClassifier(n_neighbors=k,algorithm = 'brute')\n",
    "        scores = cross_val_score(knn,Train, y_cv, cv=10, scoring='accuracy')\n",
    "        cv_scores.append(scores.mean())\n",
    "\n",
    "    # changing to misclassification error\n",
    "    MSE = [1 - x for x in cv_scores]\n",
    "\n",
    "    # determining best k\n",
    "    optimal_k = neighbors[MSE.index(min(MSE))]\n",
    "    print('\\nThe optimal number of neighbors is %d.' % optimal_k)\n",
    "\n",
    "    # plot misclassification error vs k \n",
    "    plt.plot(neighbors, MSE)\n",
    "\n",
    "    for xy in zip(neighbors, np.round(MSE,3)):\n",
    "        plt.annotate('(%s, %s)' % xy, xy=xy, textcoords='data')\n",
    "\n",
    "    plt.xlabel('Number of Neighbors K')\n",
    "    plt.ylabel('Misclassification Error')\n",
    "    plt.show()\n",
    "\n",
    "    print(\"the misclassification error for each k value is : \", np.round(MSE,3))\n",
    "\n",
    "# ============================== KNN with k = optimal_k ===============================================\n",
    "# instantiate learning model k = optimal_k\n",
    "    knn_optimal = KNeighborsClassifier(n_neighbors=optimal_k)\n",
    "# fitting the model\n",
    "    knn_optimal.fit(Train, y_cv)\n",
    "\n",
    "# predict the response\n",
    "    pred = knn_optimal.predict(Test)\n",
    "\n",
    "#train accuracy\n",
    "    train_acc = knn_optimal.score(Train, y_cv)\n",
    "    print(\"Train accuracy\", train_acc)\n",
    "\n",
    "# evaluate accuracy\n",
    "    acc = accuracy_score(y_test, pred) * 100\n",
    "    print('\\nThe accuracy of the knn classifier for k = %d is %f%%' % (optimal_k, acc)) \n",
    "#Confusion matrix\n",
    "    Confusion_mat = confusion_matrix(y_test,pred)\n",
    "    class_label = ['0', '1']\n",
    "    con_mat = pd.DataFrame(Confusion_mat, index = class_label, columns = class_label)\n",
    "    sns.heatmap(con_mat, annot = True, fmt = \"d\")\n",
    "    plt.title(\"Confusion Matrix\")\n",
    "    plt.xlabel(\"Predicted\")\n",
    "    plt.ylabel(\"Actual\")\n",
    "    plt.show()\n",
    "    print(\"Confusion_mat:\\n\",Confusion_mat)\n",
    "#F1 Score\n",
    "    print(\"F1 score:\\n\",metrics.f1_score(y_test,pred,labels=None, pos_label=1, average='binary', sample_weight=None))\n",
    "#Classification Report\n",
    "    print(\"Classification Report:\\n\",metrics.classification_report(y_test, pred, labels=None, target_names=None))"
   ]
  },
  {
   "cell_type": "code",
   "execution_count": 30,
   "metadata": {},
   "outputs": [],
   "source": [
    "#function to calculate 10 fold cross validation with kd_tree algorithm\n",
    "#Fitting the model on cross validation dataset and predicting the error on test dataset\n",
    "\n",
    "def knn_kdtree(Train,Test):\n",
    "    \n",
    "    \n",
    "    # creating odd list of K for KNN\n",
    "    myList = list(range(0,50))\n",
    "    neighbors = list(filter(lambda x: x % 2 != 0, myList))\n",
    "\n",
    "    # empty list that will hold cv scores\n",
    "    cv_scores = []\n",
    "\n",
    "    # perform 10-fold cross validation\n",
    "    for k in neighbors:\n",
    "        knn = KNeighborsClassifier(n_neighbors=k,algorithm = 'kd_tree')\n",
    "        scores = cross_val_score(knn,Train, y_cv, cv=10, scoring='accuracy')\n",
    "        cv_scores.append(scores.mean())\n",
    "\n",
    "    # changing to misclassification error\n",
    "    MSE = [1 - x for x in cv_scores]\n",
    "\n",
    "    # determining best k\n",
    "    optimal_k = neighbors[MSE.index(min(MSE))]\n",
    "    print('\\nThe optimal number of neighbors is %d.' % optimal_k)\n",
    "\n",
    "    # plot misclassification error vs k \n",
    "    plt.plot(neighbors, MSE)\n",
    "\n",
    "    for xy in zip(neighbors, np.round(MSE,3)):\n",
    "        plt.annotate('(%s, %s)' % xy, xy=xy, textcoords='data')\n",
    "\n",
    "    plt.xlabel('Number of Neighbors K')\n",
    "    plt.ylabel('Misclassification Error')\n",
    "    plt.show()\n",
    "\n",
    "    print(\"the misclassification error for each k value is : \", np.round(MSE,3))\n",
    "\n",
    "# ============================== KNN with k = optimal_k ===============================================\n",
    "# instantiate learning model k = optimal_k\n",
    "    knn_optimal = KNeighborsClassifier(n_neighbors=optimal_k)\n",
    "# fitting the model\n",
    "    knn_optimal.fit(Train, y_cv)\n",
    "\n",
    "# predict the response\n",
    "    pred = knn_optimal.predict(Test)\n",
    "\n",
    "#train accuracy\n",
    "    train_acc = knn_optimal.score(Train, y_cv)\n",
    "    print(\"Train accuracy\", train_acc)\n",
    "\n",
    "# evaluate accuracy\n",
    "    acc = accuracy_score(y_test, pred) * 100\n",
    "    print('\\nThe accuracy of the knn classifier for k = %d is %f%%' % (optimal_k, acc)) \n",
    "\n",
    "#Confusion matrix\n",
    "    Confusion_mat = confusion_matrix(y_test,pred)\n",
    "    class_label = ['0', '1']\n",
    "    con_mat = pd.DataFrame(Confusion_mat, index = class_label, columns = class_label)\n",
    "    sns.heatmap(con_mat, annot = True, fmt = \"d\")\n",
    "    plt.title(\"Confusion Matrix\")\n",
    "    plt.xlabel(\"Predicted\")\n",
    "    plt.ylabel(\"Actual\")\n",
    "    plt.show()\n",
    "    print(\"Confusion_mat:\\n\",Confusion_mat)\n",
    "#F1 Score\n",
    "    print(\"F1 score:\\n\",metrics.f1_score(y_test,pred,labels=None, pos_label=1, average='binary', sample_weight=None))\n",
    "#Classification Report\n",
    "    print(\"Classification Report:\\n\",metrics.classification_report(y_test, pred, labels=None, target_names=None))"
   ]
  },
  {
   "cell_type": "code",
   "execution_count": 31,
   "metadata": {},
   "outputs": [
    {
     "name": "stdout",
     "output_type": "stream",
     "text": [
      "\n",
      "The optimal number of neighbors is 11.\n"
     ]
    },
    {
     "data": {
      "image/png": "[encoded data removed]",
      "text/plain": [
       "<matplotlib.figure.Figure at 0x3c156978>"
      ]
     },
     "metadata": {},
     "output_type": "display_data"
    },
    {
     "name": "stdout",
     "output_type": "stream",
     "text": [
      "the misclassification error for each k value is :  [0.15  0.133 0.12  0.113 0.111 0.109 0.109 0.109 0.109 0.109 0.109 0.109\n",
      " 0.109 0.109 0.109 0.109 0.109 0.109 0.109 0.109 0.109 0.109 0.109 0.109\n",
      " 0.109]\n",
      "Train accuracy 0.8969791666666667\n",
      "\n",
      "The accuracy of the knn classifier for k = 11 is 89.300000%\n"
     ]
    },
    {
     "data": {
      "image/png": "[encoded data removed]",
      "text/plain": [
       "<matplotlib.figure.Figure at 0x3cedd978>"
      ]
     },
     "metadata": {},
     "output_type": "display_data"
    },
    {
     "name": "stdout",
     "output_type": "stream",
     "text": [
      "Confusion_mat:\n",
      " [[   72  1221]\n",
      " [   63 10644]]\n",
      "F1 score:\n",
      " 0.9431153641679957\n",
      "Classification Report:\n",
      "              precision    recall  f1-score   support\n",
      "\n",
      "          0       0.53      0.06      0.10      1293\n",
      "          1       0.90      0.99      0.94     10707\n",
      "\n",
      "avg / total       0.86      0.89      0.85     12000\n",
      "\n"
     ]
    }
   ],
   "source": [
    "#calling the function KNN with brute algorithm\n",
    "knn_brute(cv_bow,test_bow)"
   ]
  },
  {
   "cell_type": "code",
   "execution_count": 32,
   "metadata": {},
   "outputs": [
    {
     "name": "stdout",
     "output_type": "stream",
     "text": [
      "\n",
      "The optimal number of neighbors is 11.\n"
     ]
    },
    {
     "data": {
      "image/png": "[encoded data removed]",
      "text/plain": [
       "<matplotlib.figure.Figure at 0x3ce112b0>"
      ]
     },
     "metadata": {},
     "output_type": "display_data"
    },
    {
     "name": "stdout",
     "output_type": "stream",
     "text": [
      "the misclassification error for each k value is :  [0.15  0.133 0.12  0.113 0.111 0.109 0.109 0.109 0.109 0.109 0.109 0.109\n",
      " 0.109 0.109 0.109 0.109 0.109 0.109 0.109 0.109 0.109 0.109 0.109 0.109\n",
      " 0.109]\n",
      "Train accuracy 0.8969791666666667\n",
      "\n",
      "The accuracy of the knn classifier for k = 11 is 89.300000%\n"
     ]
    },
    {
     "data": {
      "image/png": "[encoded data removed]",
      "text/plain": [
       "<matplotlib.figure.Figure at 0x38e94940>"
      ]
     },
     "metadata": {},
     "output_type": "display_data"
    },
    {
     "name": "stdout",
     "output_type": "stream",
     "text": [
      "Confusion_mat:\n",
      " [[   72  1221]\n",
      " [   63 10644]]\n",
      "F1 score:\n",
      " 0.9431153641679957\n",
      "Classification Report:\n",
      "              precision    recall  f1-score   support\n",
      "\n",
      "          0       0.53      0.06      0.10      1293\n",
      "          1       0.90      0.99      0.94     10707\n",
      "\n",
      "avg / total       0.86      0.89      0.85     12000\n",
      "\n"
     ]
    }
   ],
   "source": [
    "knn_kdtree(cv_bow,test_bow)"
   ]
  },
  {
   "cell_type": "markdown",
   "metadata": {},
   "source": [
    "Observation: KNN with BoW\n",
    "\n",
    "1. Of the 12000 test data points, there are 1293 negative reviews and 10707 positive reviews. \n",
    "2. From the confusion matrix, it can be found that out of 1293 negative reviews, 72 reviews are predicted as negative(True negative) and the remaining 1221 reviews are predicted as positive(False Positive). \n",
    "3. Similarly, out of 10707 positive reviews, 10644 reviews are predicted correctly as positive(True Positive) and the rest 63 are classified as negative reviews.\n",
    "4. It can be said that KNN with BoW predicted positive reviews better than negative reviews.\n",
    "5. Number of neighbors is found to be 11 and test accuracy is 89%.\n",
    "6. Train and test accuracy looks almost same.\n"
   ]
  },
  {
   "cell_type": "code",
   "execution_count": 33,
   "metadata": {},
   "outputs": [
    {
     "name": "stdout",
     "output_type": "stream",
     "text": [
      "three dog like two quit picki enjoy research liter garbag goe dog food real find\n",
      "*****************************************************************\n",
      "['three', 'dog', 'like', 'two', 'quit', 'picki', 'enjoy', 'research', 'liter', 'garbag', 'goe', 'dog', 'food', 'real', 'find']\n",
      "dont write mani review say kettl brand chip best ever tast everi flavor dynamit feel iffi honey dijon would recommend cheddar beer absolut amaz theyr healthi besid lil fat eaten lot chip day kettl take cake enjoy dont eat fast\n",
      "*****************************************************************\n",
      "['dont', 'write', 'mani', 'review', 'say', 'kettl', 'brand', 'chip', 'best', 'ever', 'tast', 'everi', 'flavor', 'dynamit', 'feel', 'iffi', 'honey', 'dijon', 'would', 'recommend', 'cheddar', 'beer', 'absolut', 'amaz', 'theyr', 'healthi', 'besid', 'lil', 'fat', 'eaten', 'lot', 'chip', 'day', 'kettl', 'take', 'cake', 'enjoy', 'dont', 'eat', 'fast']\n",
      "bought bag parti didnt time toast pita saw gave tri prefect quick way stylish dip chip parti also easi transport love guest\n",
      "*****************************************************************\n",
      "['bought', 'bag', 'parti', 'didnt', 'time', 'toast', 'pita', 'saw', 'gave', 'tri', 'prefect', 'quick', 'way', 'stylish', 'dip', 'chip', 'parti', 'also', 'easi', 'transport', 'love', 'guest']\n"
     ]
    }
   ],
   "source": [
    "# Word2Vec model for train\n",
    "i=0\n",
    "list_of_sent=[]\n",
    "for sent in X_tr['CleanedText'].values:\n",
    "    list_of_sent.append(sent.split())\n",
    "    \n",
    "print(X_tr['CleanedText'].values[0])\n",
    "print(\"*****************************************************************\")\n",
    "print(list_of_sent[0])\n",
    "\n",
    "\n",
    "# Word2Vec model for test and CV\n",
    "i=0\n",
    "list_of_sent_cv=[]\n",
    "for sent in X_cv['CleanedText'].values:\n",
    "    list_of_sent_cv.append(sent.split())\n",
    "    \n",
    "print(X_cv['CleanedText'].values[0])\n",
    "print(\"*****************************************************************\")\n",
    "print(list_of_sent_cv[0])\n",
    "\n",
    "\n",
    "i=0\n",
    "list_of_sent_test=[]\n",
    "for sent in X_test['CleanedText'].values:\n",
    "    list_of_sent_test.append(sent.split())\n",
    "    \n",
    "print(X_test['CleanedText'].values[0])\n",
    "print(\"*****************************************************************\")\n",
    "print(list_of_sent_test[0])"
   ]
  },
  {
   "cell_type": "code",
   "execution_count": 34,
   "metadata": {},
   "outputs": [],
   "source": [
    "w2v_model_train=Word2Vec(list_of_sent,min_count=5,size=50, workers=5)\n",
    "w2v_model_test=Word2Vec(list_of_sent_test,min_count=5,size=50, workers=5)\n",
    "w2v_model_cv=Word2Vec(list_of_sent_cv,min_count=5,size=50, workers=5)\n"
   ]
  },
  {
   "cell_type": "code",
   "execution_count": 35,
   "metadata": {},
   "outputs": [
    {
     "name": "stdout",
     "output_type": "stream",
     "text": [
      "number of words that occured minimum 5 times  8385\n",
      "sample words  ['three', 'dog', 'like', 'two', 'quit', 'picki', 'enjoy', 'research', 'liter', 'garbag', 'goe', 'food', 'real', 'find', 'review', 'one', 'ive', 'written', 'without', 'act', 'sampl', 'said', 'product', 'person', 'would', 'involv', 'bar', 'away', 'year', 'old', 'long', 'enough', 'bite', 'almost', 'famili', 'kid', 'ador', 'similar', 'big', 'bird', 'earth', 'best', 'sunni', 'day', 'snack', 'appl', 'unit', 'pack', 'actual', 'found']\n"
     ]
    }
   ],
   "source": [
    "w2v_words = list(w2v_model_train.wv.vocab)\n",
    "print(\"number of words that occured minimum 5 times \",len(w2v_words))\n",
    "print(\"sample words \", w2v_words[0:50])"
   ]
  },
  {
   "cell_type": "code",
   "execution_count": 36,
   "metadata": {},
   "outputs": [
    {
     "name": "stderr",
     "output_type": "stream",
     "text": [
      "100%|██████████| 38400/38400 [00:44<00:00, 855.29it/s]\n"
     ]
    },
    {
     "name": "stdout",
     "output_type": "stream",
     "text": [
      "38400\n",
      "50\n"
     ]
    },
    {
     "name": "stderr",
     "output_type": "stream",
     "text": [
      "100%|██████████| 12000/12000 [00:14<00:00, 837.94it/s]\n"
     ]
    },
    {
     "name": "stdout",
     "output_type": "stream",
     "text": [
      "12000\n",
      "50\n"
     ]
    },
    {
     "name": "stderr",
     "output_type": "stream",
     "text": [
      "100%|██████████| 9600/9600 [00:10<00:00, 894.45it/s] \n"
     ]
    },
    {
     "name": "stdout",
     "output_type": "stream",
     "text": [
      "9600\n",
      "50\n"
     ]
    }
   ],
   "source": [
    "# average Word2Vec\n",
    "# compute average word2vec for each review.\n",
    "sent_vectors = []; # the avg-w2v for each sentence/review is stored in this list\n",
    "for sent in tqdm(list_of_sent): # for each review/sentence\n",
    "    sent_vec = np.zeros(50) # as word vectors are of zero length\n",
    "    cnt_words =0; # num of words with a valid vector in the sentence/review\n",
    "    for word in sent: # for each word in a review/sentence\n",
    "        if word in w2v_words:\n",
    "            vec = w2v_model_train.wv[word]\n",
    "            sent_vec += vec\n",
    "            cnt_words += 1\n",
    "    if cnt_words != 0:\n",
    "        sent_vec /= cnt_words\n",
    "    sent_vectors.append(sent_vec)\n",
    "print(len(sent_vectors))\n",
    "print(len(sent_vectors[0]))\n",
    "\n",
    "\n",
    "# average Word2Vec\n",
    "# compute average word2vec for each review.\n",
    "sent_vectors_test = []; # the avg-w2v for each sentence/review is stored in this list\n",
    "for sent in tqdm(list_of_sent_test): # for each review/sentence\n",
    "    sent_vec_test = np.zeros(50) # as word vectors are of zero length\n",
    "    cnt_words =0; # num of words with a valid vector in the sentence/review\n",
    "    for word in sent: # for each word in a review/sentence\n",
    "        if word in w2v_words:\n",
    "            vec = w2v_model_train.wv[word]\n",
    "            sent_vec += vec\n",
    "            cnt_words += 1\n",
    "    if cnt_words != 0:\n",
    "        sent_vec /= cnt_words\n",
    "    sent_vectors_test.append(sent_vec)\n",
    "print(len(sent_vectors_test))\n",
    "print(len(sent_vectors_test[0]))\n",
    "\n",
    "\n",
    "# average Word2Vec\n",
    "# compute average word2vec for each review.\n",
    "sent_vectors_cv = []; # the avg-w2v for each sentence/review is stored in this list\n",
    "for sent in tqdm(list_of_sent_cv): # for each review/sentence\n",
    "    sent_vec_cv = np.zeros(50) # as word vectors are of zero length\n",
    "    cnt_words =0; # num of words with a valid vector in the sentence/review\n",
    "    for word in sent: # for each word in a review/sentence\n",
    "        if word in w2v_words:\n",
    "            vec = w2v_model_train.wv[word]\n",
    "            sent_vec += vec\n",
    "            cnt_words += 1\n",
    "    if cnt_words != 0:\n",
    "        sent_vec /= cnt_words\n",
    "    sent_vectors_cv.append(sent_vec)\n",
    "print(len(sent_vectors_cv))\n",
    "print(len(sent_vectors_cv[0]))"
   ]
  },
  {
   "cell_type": "code",
   "execution_count": 37,
   "metadata": {},
   "outputs": [
    {
     "name": "stdout",
     "output_type": "stream",
     "text": [
      "\n",
      "The optimal number of neighbors is 1.\n"
     ]
    },
    {
     "data": {
      "image/png": "[encoded data removed]",
      "text/plain": [
       "<matplotlib.figure.Figure at 0x3c02cc50>"
      ]
     },
     "metadata": {},
     "output_type": "display_data"
    },
    {
     "name": "stdout",
     "output_type": "stream",
     "text": [
      "the misclassification error for each k value is :  [0.109 0.109 0.109 0.109 0.109 0.109 0.109 0.109 0.109 0.109 0.109 0.109\n",
      " 0.109 0.109 0.109 0.109 0.109 0.109 0.109 0.109 0.109 0.109 0.109 0.109\n",
      " 0.109]\n",
      "Train accuracy 0.8910416666666666\n",
      "\n",
      "The accuracy of the knn classifier for k = 1 is 89.225000%\n"
     ]
    },
    {
     "data": {
      "image/png": "[encoded data removed]",
      "text/plain": [
       "<matplotlib.figure.Figure at 0x4bca1908>"
      ]
     },
     "metadata": {},
     "output_type": "display_data"
    },
    {
     "name": "stdout",
     "output_type": "stream",
     "text": [
      "Confusion_mat:\n",
      " [[    0  1293]\n",
      " [    0 10707]]\n",
      "F1 score:\n",
      " 0.9430572070286696\n",
      "Classification Report:\n",
      "              precision    recall  f1-score   support\n",
      "\n",
      "          0       0.00      0.00      0.00      1293\n",
      "          1       0.89      1.00      0.94     10707\n",
      "\n",
      "avg / total       0.80      0.89      0.84     12000\n",
      "\n"
     ]
    }
   ],
   "source": [
    "knn_brute(sent_vectors_cv,sent_vectors_test)"
   ]
  },
  {
   "cell_type": "code",
   "execution_count": 38,
   "metadata": {},
   "outputs": [
    {
     "name": "stdout",
     "output_type": "stream",
     "text": [
      "\n",
      "The optimal number of neighbors is 1.\n"
     ]
    },
    {
     "data": {
      "image/png": "[encoded data removed]",
      "text/plain": [
       "<matplotlib.figure.Figure at 0x3a8e0b38>"
      ]
     },
     "metadata": {},
     "output_type": "display_data"
    },
    {
     "name": "stdout",
     "output_type": "stream",
     "text": [
      "the misclassification error for each k value is :  [0.109 0.109 0.109 0.109 0.109 0.109 0.109 0.109 0.109 0.109 0.109 0.109\n",
      " 0.109 0.109 0.109 0.109 0.109 0.109 0.109 0.109 0.109 0.109 0.109 0.109\n",
      " 0.109]\n",
      "Train accuracy 0.8910416666666666\n",
      "\n",
      "The accuracy of the knn classifier for k = 1 is 89.225000%\n"
     ]
    },
    {
     "data": {
      "image/png": "[encoded data removed]",
      "text/plain": [
       "<matplotlib.figure.Figure at 0x3b26d2b0>"
      ]
     },
     "metadata": {},
     "output_type": "display_data"
    },
    {
     "name": "stdout",
     "output_type": "stream",
     "text": [
      "Confusion_mat:\n",
      " [[    0  1293]\n",
      " [    0 10707]]\n",
      "F1 score:\n",
      " 0.9430572070286696\n",
      "Classification Report:\n",
      "              precision    recall  f1-score   support\n",
      "\n",
      "          0       0.00      0.00      0.00      1293\n",
      "          1       0.89      1.00      0.94     10707\n",
      "\n",
      "avg / total       0.80      0.89      0.84     12000\n",
      "\n"
     ]
    }
   ],
   "source": [
    "knn_kdtree(sent_vectors_cv,sent_vectors_test)"
   ]
  },
  {
   "cell_type": "markdown",
   "metadata": {},
   "source": [
    "Observation: KNN with Average w2v model \n",
    "1. Both Brute and kd_tree alogorithm gives the same result.\n",
    "2. From the confusion matrix, all 1293 negative reviews are incorrectly predicted as positive reviews and the remaining 10707 reviews are correctly predicted as positive reviews.\n",
    "3. F1 score is 0 for negative reviews which means this model failed to classify negative reviews.\n",
    "4. Number of neighbors is 1 and accuracy is 89.22%"
   ]
  },
  {
   "cell_type": "code",
   "execution_count": 39,
   "metadata": {},
   "outputs": [],
   "source": [
    "# S = [\"abc def pqr\", \"def def def abc\", \"pqr pqr def\"]\n",
    "model = TfidfVectorizer()\n",
    "tf_idf_matrix = model.fit_transform(X_tr['CleanedText'].values)\n",
    "# we are converting a dictionary with word as a key, and the idf as a value\n",
    "dictionary = dict(zip(model.get_feature_names(), list(model.idf_)))"
   ]
  },
  {
   "cell_type": "code",
   "execution_count": 40,
   "metadata": {},
   "outputs": [
    {
     "name": "stderr",
     "output_type": "stream",
     "text": [
      "100%|██████████| 38400/38400 [00:56<00:00, 680.97it/s]\n",
      "100%|██████████| 12000/12000 [00:17<00:00, 686.20it/s]\n",
      "100%|██████████| 9600/9600 [00:13<00:00, 706.53it/s]\n"
     ]
    }
   ],
   "source": [
    "# TF-IDF weighted Word2Vec\n",
    "tfidf_feat = model.get_feature_names() # tfidf words/col-names\n",
    "# final_tf_idf is the sparse matrix with row= sentence, col=word and cell_val = tfidf\n",
    "\n",
    "tfidf_sent_vectors = []; # the tfidf-w2v for each sentence/review is stored in this list\n",
    "row=0;\n",
    "for sent in tqdm(list_of_sent): # for each review/sentence \n",
    "    sent_vec = np.zeros(50) # as word vectors are of zero length\n",
    "    weight_sum =0; # num of words with a valid vector in the sentence/review\n",
    "    for word in sent: # for each word in a review/sentence\n",
    "        if word in w2v_words:\n",
    "            vec = w2v_model_train.wv[word]\n",
    "#             tf_idf = tf_idf_matrix[row, tfidf_feat.index(word)]\n",
    "            # to reduce the computation we are \n",
    "            # dictionary[word] = idf value of word in whole courpus\n",
    "            # sent.count(word) = tf valeus of word in this review\n",
    "            tf_idf = dictionary[word]*(sent.count(word)/len(sent))\n",
    "            sent_vec += (vec * tf_idf)\n",
    "            weight_sum += tf_idf\n",
    "    if weight_sum != 0:\n",
    "        sent_vec /= weight_sum\n",
    "    tfidf_sent_vectors.append(sent_vec)\n",
    "    row += 1\n",
    "    \n",
    "    \n",
    "    \n",
    "# TF-IDF weighted Word2Vec for test dataset\n",
    "tfidf_feat = model.get_feature_names() # tfidf words/col-names\n",
    "# final_tf_idf is the sparse matrix with row= sentence, col=word and cell_val = tfidf\n",
    "\n",
    "tfidf_sent_vectors_test = []; # the tfidf-w2v for each sentence/review is stored in this list\n",
    "row=0;\n",
    "for sent in tqdm(list_of_sent_test): # for each review/sentence \n",
    "    sent_vec = np.zeros(50) # as word vectors are of zero length\n",
    "    weight_sum =0; # num of words with a valid vector in the sentence/review\n",
    "    for word in sent: # for each word in a review/sentence\n",
    "        if word in w2v_words:\n",
    "            vec = w2v_model_train.wv[word]\n",
    "#             tf_idf = tf_idf_matrix[row, tfidf_feat.index(word)]\n",
    "            # to reduce the computation we are \n",
    "            # dictionary[word] = idf value of word in whole courpus\n",
    "            # sent.count(word) = tf valeus of word in this review\n",
    "            tf_idf = dictionary[word]*(sent.count(word)/len(sent))\n",
    "            sent_vec += (vec * tf_idf)\n",
    "            weight_sum += tf_idf\n",
    "    if weight_sum != 0:\n",
    "        sent_vec /= weight_sum\n",
    "    tfidf_sent_vectors_test.append(sent_vec)\n",
    "    row += 1\n",
    "    \n",
    "    \n",
    "# TF-IDF weighted Word2Vec for cross validation dataset\n",
    "tfidf_feat = model.get_feature_names() # tfidf words/col-names\n",
    "# final_tf_idf is the sparse matrix with row= sentence, col=word and cell_val = tfidf\n",
    "\n",
    "tfidf_sent_vectors_cv = []; # the tfidf-w2v for each sentence/review is stored in this list\n",
    "row=0;\n",
    "for sent in tqdm(list_of_sent_cv): # for each review/sentence \n",
    "    sent_vec = np.zeros(50) # as word vectors are of zero length\n",
    "    weight_sum =0; # num of words with a valid vector in the sentence/review\n",
    "    for word in sent: # for each word in a review/sentence\n",
    "        if word in w2v_words:\n",
    "            vec = w2v_model_train.wv[word]\n",
    "#             tf_idf = tf_idf_matrix[row, tfidf_feat.index(word)]\n",
    "            # to reduce the computation we are \n",
    "            # dictionary[word] = idf value of word in whole courpus\n",
    "            # sent.count(word) = tf valeus of word in this review\n",
    "            tf_idf = dictionary[word]*(sent.count(word)/len(sent))\n",
    "            sent_vec += (vec * tf_idf)\n",
    "            weight_sum += tf_idf\n",
    "    if weight_sum != 0:\n",
    "        sent_vec /= weight_sum\n",
    "    tfidf_sent_vectors_cv.append(sent_vec)\n",
    "    row += 1"
   ]
  },
  {
   "cell_type": "code",
   "execution_count": 41,
   "metadata": {},
   "outputs": [
    {
     "name": "stdout",
     "output_type": "stream",
     "text": [
      "\n",
      "The optimal number of neighbors is 17.\n"
     ]
    },
    {
     "data": {
      "image/png": "[encoded data removed]",
      "text/plain": [
       "<matplotlib.figure.Figure at 0x4ce4c518>"
      ]
     },
     "metadata": {},
     "output_type": "display_data"
    },
    {
     "name": "stdout",
     "output_type": "stream",
     "text": [
      "the misclassification error for each k value is :  [0.132 0.113 0.106 0.107 0.108 0.106 0.106 0.106 0.105 0.106 0.106 0.106\n",
      " 0.106 0.106 0.107 0.106 0.107 0.107 0.107 0.107 0.107 0.107 0.107 0.108\n",
      " 0.108]\n",
      "Train accuracy 0.8976041666666666\n",
      "\n",
      "The accuracy of the knn classifier for k = 17 is 89.583333%\n"
     ]
    },
    {
     "data": {
      "image/png": "[encoded data removed]",
      "text/plain": [
       "<matplotlib.figure.Figure at 0x4d7f6a90>"
      ]
     },
     "metadata": {},
     "output_type": "display_data"
    },
    {
     "name": "stdout",
     "output_type": "stream",
     "text": [
      "Confusion_mat:\n",
      " [[   88  1205]\n",
      " [   45 10662]]\n",
      "F1 score:\n",
      " 0.9446265615309648\n",
      "Classification Report:\n",
      "              precision    recall  f1-score   support\n",
      "\n",
      "          0       0.66      0.07      0.12      1293\n",
      "          1       0.90      1.00      0.94     10707\n",
      "\n",
      "avg / total       0.87      0.90      0.86     12000\n",
      "\n"
     ]
    }
   ],
   "source": [
    "knn_brute(tfidf_sent_vectors_cv,tfidf_sent_vectors_test)\n"
   ]
  },
  {
   "cell_type": "code",
   "execution_count": 42,
   "metadata": {},
   "outputs": [
    {
     "name": "stdout",
     "output_type": "stream",
     "text": [
      "\n",
      "The optimal number of neighbors is 17.\n"
     ]
    },
    {
     "data": {
      "image/png": "[encoded data removed]",
      "text/plain": [
       "<matplotlib.figure.Figure at 0x35b1b860>"
      ]
     },
     "metadata": {},
     "output_type": "display_data"
    },
    {
     "name": "stdout",
     "output_type": "stream",
     "text": [
      "the misclassification error for each k value is :  [0.132 0.113 0.106 0.107 0.108 0.106 0.106 0.106 0.105 0.106 0.106 0.106\n",
      " 0.106 0.106 0.107 0.106 0.107 0.107 0.107 0.107 0.107 0.107 0.107 0.108\n",
      " 0.108]\n",
      "Train accuracy 0.8976041666666666\n",
      "\n",
      "The accuracy of the knn classifier for k = 17 is 89.583333%\n"
     ]
    },
    {
     "data": {
      "image/png": "[encoded data removed]",
      "text/plain": [
       "<matplotlib.figure.Figure at 0x4e9c34a8>"
      ]
     },
     "metadata": {},
     "output_type": "display_data"
    },
    {
     "name": "stdout",
     "output_type": "stream",
     "text": [
      "Confusion_mat:\n",
      " [[   88  1205]\n",
      " [   45 10662]]\n",
      "F1 score:\n",
      " 0.9446265615309648\n",
      "Classification Report:\n",
      "              precision    recall  f1-score   support\n",
      "\n",
      "          0       0.66      0.07      0.12      1293\n",
      "          1       0.90      1.00      0.94     10707\n",
      "\n",
      "avg / total       0.87      0.90      0.86     12000\n",
      "\n"
     ]
    }
   ],
   "source": [
    "knn_kdtree(tfidf_sent_vectors_cv,tfidf_sent_vectors_test)"
   ]
  },
  {
   "cell_type": "markdown",
   "metadata": {},
   "source": [
    "Observation: KNN with TFIDF w2v model \n",
    "\n",
    "1. From the confusion matrix, out of 1293 negative reviews, 1205 are correctly predicted as negative reviews and out of the 10707 positive reviews, 10662 reviews are correctly predicted as positive reviews.\n",
    "2. F1 score is 0.12 for negative reviews and 0.94 for positive reviews.\n",
    "3. Number of neighbors is 17 and test accuracy is 89.55%\n",
    "    \n",
    "    "
   ]
  },
  {
   "cell_type": "code",
   "execution_count": 8,
   "metadata": {},
   "outputs": [
    {
     "name": "stdout",
     "output_type": "stream",
     "text": [
      "+-----------------------------+----+----------------+---------------+\n",
      "|            model            | k  | Train accuracy | Test accuracy |\n",
      "+-----------------------------+----+----------------+---------------+\n",
      "|         KNN with BoW        | 11 |     89.69%     |     89.30     |\n",
      "|        KNN with TFIDF       | 5  |   91.62.69%    |     87.70     |\n",
      "|       KNN with Avg w2v      | 1  |     89.10%     |     89.22     |\n",
      "| KNN with TFIDF weighted w2v | 17 |     89.76%     |     89.58     |\n",
      "+-----------------------------+----+----------------+---------------+\n"
     ]
    }
   ],
   "source": [
    "from prettytable import PrettyTable\n",
    "table = PrettyTable([\"model\",\"k\",\"Train accuracy\",\"Test accuracy\"])\n",
    "table.add_row([\"KNN with BoW\", \"11\", \"89.69%\",\"89.30\"])\n",
    "table.add_row([\"KNN with TFIDF\", \"5\", \"91.62.69%\",\"87.70\"])\n",
    "table.add_row([\"KNN with Avg w2v\", \"1\", \"89.10%\",\"89.22\"])\n",
    "table.add_row([\"KNN with TFIDF weighted w2v\", \"17\", \"89.76%\",\"89.58\"])\n",
    "print(table)"
   ]
  },
  {
   "cell_type": "markdown",
   "metadata": {},
   "source": [
    "Conclusion:\n",
    "\n",
    "    Overall, feature to vectorization algorithm used above, number of nearest neighbors is less for BoW(k=11). Test accuracy: 89% for all the three vectorization techniques. There is a slight differenc in decimals.Both kd_tree and brute algorithm shows similar results in terms of accuracy.\n",
    "    \n",
    "    Based on the confusion matrix, it is better to go with TFIDF weighted w2v/BoW vectorization technique. Since, both models predicted the classification of positive and negative reviews in an acceptable way.\n",
    "    Whereas, Average w2v model, the number of neighbors is 1 and also it predicted all the negative reviews as positive, which is not acceptable. Same scenario with TFIDF too(attached separate file)\n",
    "    \n",
    "    If we are much concerned about less k number of nearest neighbors, BoW stands out first(k=11) than TFIDF (k=17).\n",
    "     \n",
    " "
   ]
  }
 ],
 "metadata": {
  "kernelspec": {
   "display_name": "Python 3",
   "language": "python",
   "name": "python3"
  },
  "language_info": {
   "codemirror_mode": {
    "name": "ipython",
    "version": 3
   },
   "file_extension": ".py",
   "mimetype": "text/x-python",
   "name": "python",
   "nbconvert_exporter": "python",
   "pygments_lexer": "ipython3",
   "version": "3.6.4"
  }
 },
 "nbformat": 4,
 "nbformat_minor": 2
}
