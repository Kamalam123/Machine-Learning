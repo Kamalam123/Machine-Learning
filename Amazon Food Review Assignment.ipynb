{
 "cells": [
  {
   "cell_type": "code",
   "execution_count": 2,
   "metadata": {},
   "outputs": [
    {
     "ename": "SyntaxError",
     "evalue": "invalid syntax (<ipython-input-2-04df3263001a>, line 1)",
     "output_type": "error",
     "traceback": [
      "\u001b[1;36m  File \u001b[1;32m\"<ipython-input-2-04df3263001a>\"\u001b[1;36m, line \u001b[1;32m1\u001b[0m\n\u001b[1;33m    Objective: To visualize the positive and negative reviews using TSNE with the preprocessing techniques BoW, bigram, avgw2v,\u001b[0m\n\u001b[1;37m                          ^\u001b[0m\n\u001b[1;31mSyntaxError\u001b[0m\u001b[1;31m:\u001b[0m invalid syntax\n"
     ]
    }
   ],
   "source": [
    "Objective: To visualize the positive and negative reviews using TSNE with the preprocessing techniques BoW, bigram, avgw2v, \n",
    "            tfidfw2v.\n",
    "            \n",
    "Note: Due to memory constraints, I chose 5000 data points from the database.\n",
    "Steps Followed:\n",
    "1. Using the SQLite Table to read data.\n",
    "2. Give reviews with Score>3 a positive rating, and reviews with a score<3 a negative rating.\n",
    "3. Changing reviews with score less than 3 to be positive and vice-versa\n",
    "4. Sorting data according to ProductId in ascending order\n",
    "5. Deduplication of entries\n",
    "6. Checking to see how much % of data still remains\n",
    "7. How many positive and negative reviews are present in our dataset?\n",
    "8. Find sentences containing HTML tags\n",
    "9. Removing alphanumeric,stopwords\n",
    "10. Calculating positive and negative words\n",
    "11. BoW technique\n",
    "12. Plotted TSNE by both suggested methods:\n",
    "#TSNE using \n",
    "1)By converting Sparse to dense matrix using toarray \n",
    "2)Truncated SVD(chose number of components(600) based on explained variance ratio(85% data is widespread) \n",
    "13.Preprocessing technique without removing stopwords\n",
    "14.Bigram technique\n",
    "15.Truncated SVD to reduce dimensions\n",
    "16.TSNE for Bigram\n",
    "17.Average W2V\n",
    "18.TF-IDF weighted Word2Vec\n",
    "#TSNE plot for Average W2V and TFIDF weighted Word2Vec\n",
    "    "
   ]
  },
  {
   "cell_type": "code",
   "execution_count": 3,
   "metadata": {},
   "outputs": [],
   "source": [
    "%matplotlib inline\n",
    "import warnings\n",
    "warnings.filterwarnings(\"ignore\")\n",
    "\n",
    "import sqlite3\n",
    "import pandas as pd\n",
    "import numpy as np\n",
    "import nltk\n",
    "import string\n",
    "import matplotlib.pyplot as plt\n",
    "import seaborn as sns\n",
    "from sklearn.feature_extraction.text import TfidfTransformer\n",
    "from sklearn.feature_extraction.text import TfidfVectorizer\n",
    "\n",
    "from sklearn.feature_extraction.text import CountVectorizer\n",
    "from sklearn.metrics import confusion_matrix\n",
    "from sklearn import metrics\n",
    "from sklearn.metrics import roc_curve, auc\n",
    "from nltk.stem.porter import PorterStemmer\n",
    "\n",
    "import re\n",
    "# Tutorial about Python regular expressions: https://pymotw.com/2/re/\n",
    "import string\n",
    "from nltk.corpus import stopwords\n",
    "from nltk.stem import PorterStemmer\n",
    "from nltk.stem.wordnet import WordNetLemmatizer\n",
    "\n",
    "from gensim.models import Word2Vec\n",
    "from gensim.models import KeyedVectors\n",
    "import pickle\n",
    "\n",
    "from tqdm import tqdm\n",
    "import os"
   ]
  },
  {
   "cell_type": "code",
   "execution_count": null,
   "metadata": {},
   "outputs": [],
   "source": [
    "#5000 data points chosen from the database"
   ]
  },
  {
   "cell_type": "code",
   "execution_count": 4,
   "metadata": {},
   "outputs": [
    {
     "name": "stdout",
     "output_type": "stream",
     "text": [
      "Number of data points in our data (5000, 10)\n"
     ]
    },
    {
     "data": {
      "text/html": [
       "<div>\n",
       "<style scoped>\n",
       "    .dataframe tbody tr th:only-of-type {\n",
       "        vertical-align: middle;\n",
       "    }\n",
       "\n",
       "    .dataframe tbody tr th {\n",
       "        vertical-align: top;\n",
       "    }\n",
       "\n",
       "    .dataframe thead th {\n",
       "        text-align: right;\n",
       "    }\n",
       "</style>\n",
       "<table border=\"1\" class=\"dataframe\">\n",
       "  <thead>\n",
       "    <tr style=\"text-align: right;\">\n",
       "      <th></th>\n",
       "      <th>Id</th>\n",
       "      <th>ProductId</th>\n",
       "      <th>UserId</th>\n",
       "      <th>ProfileName</th>\n",
       "      <th>HelpfulnessNumerator</th>\n",
       "      <th>HelpfulnessDenominator</th>\n",
       "      <th>Score</th>\n",
       "      <th>Time</th>\n",
       "      <th>Summary</th>\n",
       "      <th>Text</th>\n",
       "    </tr>\n",
       "  </thead>\n",
       "  <tbody>\n",
       "    <tr>\n",
       "      <th>0</th>\n",
       "      <td>1</td>\n",
       "      <td>B001E4KFG0</td>\n",
       "      <td>A3SGXH7AUHU8GW</td>\n",
       "      <td>delmartian</td>\n",
       "      <td>1</td>\n",
       "      <td>1</td>\n",
       "      <td>1</td>\n",
       "      <td>1303862400</td>\n",
       "      <td>Good Quality Dog Food</td>\n",
       "      <td>I have bought several of the Vitality canned d...</td>\n",
       "    </tr>\n",
       "    <tr>\n",
       "      <th>1</th>\n",
       "      <td>2</td>\n",
       "      <td>B00813GRG4</td>\n",
       "      <td>A1D87F6ZCVE5NK</td>\n",
       "      <td>dll pa</td>\n",
       "      <td>0</td>\n",
       "      <td>0</td>\n",
       "      <td>0</td>\n",
       "      <td>1346976000</td>\n",
       "      <td>Not as Advertised</td>\n",
       "      <td>Product arrived labeled as Jumbo Salted Peanut...</td>\n",
       "    </tr>\n",
       "    <tr>\n",
       "      <th>2</th>\n",
       "      <td>3</td>\n",
       "      <td>B000LQOCH0</td>\n",
       "      <td>ABXLMWJIXXAIN</td>\n",
       "      <td>Natalia Corres \"Natalia Corres\"</td>\n",
       "      <td>1</td>\n",
       "      <td>1</td>\n",
       "      <td>1</td>\n",
       "      <td>1219017600</td>\n",
       "      <td>\"Delight\" says it all</td>\n",
       "      <td>This is a confection that has been around a fe...</td>\n",
       "    </tr>\n",
       "  </tbody>\n",
       "</table>\n",
       "</div>"
      ],
      "text/plain": [
       "   Id   ProductId          UserId                      ProfileName  \\\n",
       "0   1  B001E4KFG0  A3SGXH7AUHU8GW                       delmartian   \n",
       "1   2  B00813GRG4  A1D87F6ZCVE5NK                           dll pa   \n",
       "2   3  B000LQOCH0   ABXLMWJIXXAIN  Natalia Corres \"Natalia Corres\"   \n",
       "\n",
       "   HelpfulnessNumerator  HelpfulnessDenominator  Score        Time  \\\n",
       "0                     1                       1      1  1303862400   \n",
       "1                     0                       0      0  1346976000   \n",
       "2                     1                       1      1  1219017600   \n",
       "\n",
       "                 Summary                                               Text  \n",
       "0  Good Quality Dog Food  I have bought several of the Vitality canned d...  \n",
       "1      Not as Advertised  Product arrived labeled as Jumbo Salted Peanut...  \n",
       "2  \"Delight\" says it all  This is a confection that has been around a fe...  "
      ]
     },
     "execution_count": 4,
     "metadata": {},
     "output_type": "execute_result"
    }
   ],
   "source": [
    "# using the SQLite Table to read data.\n",
    "con = sqlite3.connect('database.sqlite') \n",
    "#filtering only positive and negative reviews i.e. \n",
    "# not taking into consideration those reviews with Score=3\n",
    "filtered_data = pd.read_sql_query(\"\"\" SELECT * FROM Reviews WHERE Score != 3 LIMIT 5000\"\"\", con) \n",
    "\n",
    "\n",
    "# Give reviews with Score>3 a positive rating, and reviews with a score<3 a negative rating.\n",
    "def partition(x):\n",
    "    if x < 3:\n",
    "        return 0\n",
    "    return 1\n",
    "\n",
    "#changing reviews with score less than 3 to be positive and vice-versa\n",
    "actualScore = filtered_data['Score']\n",
    "positiveNegative = actualScore.map(partition) \n",
    "filtered_data['Score'] = positiveNegative\n",
    "print(\"Number of data points in our data\", filtered_data.shape)\n",
    "filtered_data.head(3)"
   ]
  },
  {
   "cell_type": "code",
   "execution_count": 5,
   "metadata": {},
   "outputs": [],
   "source": [
    "#Sorting data according to ProductId in ascending order\n",
    "sorted_data=filtered_data.sort_values('ProductId', axis=0, ascending=True, inplace=False, kind='quicksort', na_position='last')"
   ]
  },
  {
   "cell_type": "code",
   "execution_count": 6,
   "metadata": {},
   "outputs": [
    {
     "name": "stdout",
     "output_type": "stream",
     "text": [
      "(5000, 10)\n"
     ]
    }
   ],
   "source": [
    "print(sorted_data.shape)"
   ]
  },
  {
   "cell_type": "code",
   "execution_count": 7,
   "metadata": {},
   "outputs": [
    {
     "data": {
      "text/plain": [
       "(4986, 10)"
      ]
     },
     "execution_count": 7,
     "metadata": {},
     "output_type": "execute_result"
    }
   ],
   "source": [
    "#Deduplication of entries\n",
    "final=sorted_data.drop_duplicates(subset={\"UserId\",\"ProfileName\",\"Time\",\"Text\"}, keep='first', inplace=False)\n",
    "final.shape\n"
   ]
  },
  {
   "cell_type": "code",
   "execution_count": 8,
   "metadata": {},
   "outputs": [
    {
     "data": {
      "text/plain": [
       "99.72"
      ]
     },
     "execution_count": 8,
     "metadata": {},
     "output_type": "execute_result"
    }
   ],
   "source": [
    "#Checking to see how much % of data still remains\n",
    "(final['Id'].size*1.0)/(filtered_data['Id'].size*1.0)*100"
   ]
  },
  {
   "cell_type": "code",
   "execution_count": 9,
   "metadata": {},
   "outputs": [
    {
     "data": {
      "text/html": [
       "<div>\n",
       "<style scoped>\n",
       "    .dataframe tbody tr th:only-of-type {\n",
       "        vertical-align: middle;\n",
       "    }\n",
       "\n",
       "    .dataframe tbody tr th {\n",
       "        vertical-align: top;\n",
       "    }\n",
       "\n",
       "    .dataframe thead th {\n",
       "        text-align: right;\n",
       "    }\n",
       "</style>\n",
       "<table border=\"1\" class=\"dataframe\">\n",
       "  <thead>\n",
       "    <tr style=\"text-align: right;\">\n",
       "      <th></th>\n",
       "      <th>Id</th>\n",
       "      <th>ProductId</th>\n",
       "      <th>UserId</th>\n",
       "      <th>ProfileName</th>\n",
       "      <th>HelpfulnessNumerator</th>\n",
       "      <th>HelpfulnessDenominator</th>\n",
       "      <th>Score</th>\n",
       "      <th>Time</th>\n",
       "      <th>Summary</th>\n",
       "      <th>Text</th>\n",
       "    </tr>\n",
       "  </thead>\n",
       "  <tbody>\n",
       "    <tr>\n",
       "      <th>0</th>\n",
       "      <td>64422</td>\n",
       "      <td>B000MIDROQ</td>\n",
       "      <td>A161DK06JJMCYF</td>\n",
       "      <td>J. E. Stephens \"Jeanne\"</td>\n",
       "      <td>3</td>\n",
       "      <td>1</td>\n",
       "      <td>5</td>\n",
       "      <td>1224892800</td>\n",
       "      <td>Bought This for My Son at College</td>\n",
       "      <td>My son loves spaghetti so I didn't hesitate or...</td>\n",
       "    </tr>\n",
       "    <tr>\n",
       "      <th>1</th>\n",
       "      <td>44737</td>\n",
       "      <td>B001EQ55RW</td>\n",
       "      <td>A2V0I904FH7ABY</td>\n",
       "      <td>Ram</td>\n",
       "      <td>3</td>\n",
       "      <td>2</td>\n",
       "      <td>4</td>\n",
       "      <td>1212883200</td>\n",
       "      <td>Pure cocoa taste with crunchy almonds inside</td>\n",
       "      <td>It was almost a 'love at first bite' - the per...</td>\n",
       "    </tr>\n",
       "  </tbody>\n",
       "</table>\n",
       "</div>"
      ],
      "text/plain": [
       "      Id   ProductId          UserId              ProfileName  \\\n",
       "0  64422  B000MIDROQ  A161DK06JJMCYF  J. E. Stephens \"Jeanne\"   \n",
       "1  44737  B001EQ55RW  A2V0I904FH7ABY                      Ram   \n",
       "\n",
       "   HelpfulnessNumerator  HelpfulnessDenominator  Score        Time  \\\n",
       "0                     3                       1      5  1224892800   \n",
       "1                     3                       2      4  1212883200   \n",
       "\n",
       "                                        Summary  \\\n",
       "0             Bought This for My Son at College   \n",
       "1  Pure cocoa taste with crunchy almonds inside   \n",
       "\n",
       "                                                Text  \n",
       "0  My son loves spaghetti so I didn't hesitate or...  \n",
       "1  It was almost a 'love at first bite' - the per...  "
      ]
     },
     "execution_count": 9,
     "metadata": {},
     "output_type": "execute_result"
    }
   ],
   "source": [
    "display= pd.read_sql_query(\"\"\"\n",
    "SELECT *\n",
    "FROM Reviews\n",
    "WHERE Score != 3 AND Id=44737 OR Id=64422\n",
    "ORDER BY ProductID\n",
    "\"\"\", con)\n",
    "\n",
    "display.head()"
   ]
  },
  {
   "cell_type": "code",
   "execution_count": 10,
   "metadata": {},
   "outputs": [],
   "source": [
    "final=final[final.HelpfulnessNumerator<=final.HelpfulnessDenominator]"
   ]
  },
  {
   "cell_type": "code",
   "execution_count": 11,
   "metadata": {},
   "outputs": [
    {
     "name": "stdout",
     "output_type": "stream",
     "text": [
      "(4986, 10)\n"
     ]
    },
    {
     "data": {
      "text/plain": [
       "1    4178\n",
       "0     808\n",
       "Name: Score, dtype: int64"
      ]
     },
     "execution_count": 11,
     "metadata": {},
     "output_type": "execute_result"
    }
   ],
   "source": [
    "#Before starting the next phase of preprocessing lets see the number of entries left\n",
    "print(final.shape)\n",
    "#print(final['Text'].head)\n",
    "\n",
    "#How many positive and negative reviews are present in our dataset?\n",
    "final['Score'].value_counts()\n"
   ]
  },
  {
   "cell_type": "code",
   "execution_count": null,
   "metadata": {},
   "outputs": [],
   "source": [
    "From above, we can conclude that there are 4178 positive reviews and 808 negative reviews."
   ]
  },
  {
   "cell_type": "code",
   "execution_count": 12,
   "metadata": {},
   "outputs": [
    {
     "name": "stdout",
     "output_type": "stream",
     "text": [
      "0\n",
      "Why is this $[...] when the same product is available for $[...] here?<br />http://www.amazon.com/VICTOR-FLY-MAGNET-BAIT-REFILL/dp/B00004RBDY<br /><br />The Victor M380 and M502 traps are unreal, of course -- total fly genocide. Pretty stinky, but only right nearby.\n"
     ]
    }
   ],
   "source": [
    "# find sentences containing HTML tags\n",
    "import re\n",
    "i=0;\n",
    "for sent in final['Text'].values:\n",
    "    if (len(re.findall('<.*?>', sent))):\n",
    "        print(i)\n",
    "        print(sent)\n",
    "        break;\n",
    "    i += 1;"
   ]
  },
  {
   "cell_type": "code",
   "execution_count": 13,
   "metadata": {},
   "outputs": [
    {
     "name": "stdout",
     "output_type": "stream",
     "text": [
      "{'been', 'being', \"weren't\", \"wouldn't\", 'you', 'of', 'wasn', 'weren', 'ourselves', 'during', 'when', 'yours', 'mustn', 'don', 'are', 'was', 'were', \"wasn't\", 'against', 'after', 'on', 'over', 'should', 'these', 'have', 'which', 'and', \"doesn't\", 'this', 'off', 'same', 'then', \"shan't\", 'it', 'yourselves', 'too', 'than', \"haven't\", 'she', 'won', \"mustn't\", 'about', 'now', 'me', 'them', \"didn't\", 'yourself', 'very', \"you'd\", \"hasn't\", 'in', 'only', 'down', 'isn', 'do', 'again', 'there', 'if', 'your', 'as', \"it's\", 'ours', 'him', 'll', 'how', 'where', 'couldn', 'that', 'few', 'themselves', 'having', 'below', 'not', 'hadn', 'his', 'between', 'is', 'their', 'theirs', 'a', 'will', \"that'll\", 'here', 'to', 'why', 'had', 'through', 'didn', 'my', 'under', 'other', 'aren', 'can', 'am', \"should've\", 'm', 'before', 'those', 'doing', 'mightn', 'such', 've', 'does', 'myself', 'any', 'all', 'both', 'own', 'whom', 'what', \"hadn't\", \"needn't\", \"won't\", 's', \"mightn't\", 'doesn', 'until', 'more', 'her', 're', 'we', 'needn', 'herself', 'itself', 'haven', 'himself', 'its', 'shouldn', 'most', 'hers', 'some', 'nor', 'into', 'or', 'they', 'once', \"you're\", 'for', 'because', 'no', 't', \"don't\", 'did', 'be', 'from', \"couldn't\", 'hasn', \"aren't\", 'i', \"isn't\", 'ma', 'with', \"shouldn't\", 'but', 'while', 'ain', 'wouldn', 'by', 'above', \"she's\", 'y', 'further', 'so', 'he', \"you'll\", 'an', 'the', 'each', 'who', 'our', 'at', 'just', 'd', 'out', 'up', \"you've\", 'has', 'shan', 'o'}\n",
      "************************************\n",
      "beauti\n"
     ]
    }
   ],
   "source": [
    "stop = set(stopwords.words('english')) #set of stopwords\n",
    "sno = nltk.stem.SnowballStemmer('english') #initialising the snowball stemmer\n",
    "\n",
    "def cleanhtml(sentence): #function to clean the word of any html-tags\n",
    "    cleanr = re.compile('<.*?>')\n",
    "    cleantext = re.sub(cleanr, ' ', sentence)\n",
    "    return cleantext\n",
    "def cleanpunc(sentence): #function to clean the word of any punctuation or special characters\n",
    "    cleaned = re.sub(r'[?|!|\\'|\"|#]',r'',sentence)\n",
    "    cleaned = re.sub(r'[.|,|)|(|\\|/]',r' ',cleaned)\n",
    "    return  cleaned\n",
    "print(stop)\n",
    "print('************************************')\n",
    "print(sno.stem('beautiful'))"
   ]
  },
  {
   "cell_type": "code",
   "execution_count": 14,
   "metadata": {},
   "outputs": [
    {
     "name": "stdout",
     "output_type": "stream",
     "text": [
      "<bound method NDFrame.head of 2546    Why is this $[...] when the same product is av...\n",
      "2547    We have used the Victor fly bait for 3 seasons...\n",
      "1145    I just received my shipment and could hardly w...\n",
      "1146    This was a really good idea and the final prod...\n",
      "2942    I'm glad my 45lb cocker/standard poodle puppy ...\n",
      "2941    We have been using this food for about 6 month...\n",
      "1071    I have nine cats and they are crazy about thes...\n",
      "2187    These were shipped out the day after I ordered...\n",
      "4695    This mix is probably not something you would w...\n",
      "2068    The description of this product is disceptive....\n",
      "2069    I bought this same brand from an online Indian...\n",
      "2806    I use these to keep my finicky toddler's prote...\n",
      "2805    When we get very busy in our home, I like this...\n",
      "4099    This company is an American Classic been in bu...\n",
      "4096    I love Pico Pica.  It adds some flavor, and it...\n",
      "4097    Thank goodness for MexGrocer. We love this Pic...\n",
      "4098    This is a very different sauce - nothing like ...\n",
      "1332    i found this product doing a search for \"edibl...\n",
      "1330    i purchased this item for a cake that called f...\n",
      "1329    I have used this product multiple times.  In f...\n",
      "1328    I used Super Gold Luster Dust to create the mo...\n",
      "1331    This product allows me to make some really big...\n",
      "4320    This was a cute, affordable set for my 2 y/o s...\n",
      "4321    I only used one green with it's ball, etc. wit...\n",
      "4322    <a href=\"http://www.amazon.com/gp/product/B000...\n",
      "4323    The Golf \"set\" arrived quickly and was just as...\n",
      "4054    With all natural ingredients and no preservati...\n",
      "2477    Adzuki ( or Azuki) beans are ment to be used i...\n",
      "2476    Good beans.  I can't find these in the grocery...\n",
      "2478    their not only good for you but their yummy.th...\n",
      "                              ...                        \n",
      "2214    Carabou Mahogony is the worst tasting cup of c...\n",
      "2215    I ordered the Mahogany Caribou Coffee K-Cups a...\n",
      "2212    my wife and I are avid Keurig coffee fans (wit...\n",
      "2216    This is a serious cup of joe. Yummyness!<br />...\n",
      "2217    this is maybe the greatest coffee ever made.  ...\n",
      "677     So surprised to find the Taiwan-shaped pineapp...\n",
      "678     I really like the pineapple shortcakes sold he...\n",
      "3663    I started using <a href=\"http://www.amazon.com...\n",
      "3662    I've been using Lourdes Chimichurri for years ...\n",
      "3664    I absolutely love this product!  I use it on c...\n",
      "3580    I've never had Sunchy Malta before (I drank a ...\n",
      "1110    My item got to my house on time and I was surp...\n",
      "1109    Since being gluten free I've tried all types o...\n",
      "1108    These are not as good at Houston's Samba Grill...\n",
      "1107    I made these recently for a holiday party.  I ...\n",
      "1106    I spent the first five years of my life in Bra...\n",
      "1232    Love this, dont use too much because it is str...\n",
      "4714    This is the best olive oil not for cooking as ...\n",
      "2013    A nearby Fresh and Easy Neighborhood Market st...\n",
      "3567    I can get it at Walmart for $1.78 each or the ...\n",
      "3271    This coffee is really rich, perfect in the mor...\n",
      "220     Fresh,a great way to get a little chocolate in...\n",
      "4117    THIS TASTE IS BETWEEN SOMETHING LIKE FLAX BREA...\n",
      "4118    I just had a wonderful dinner: Fresh fluke fri...\n",
      "712     I have tried about 75% of the available T-Disc...\n",
      "711     This is one of the best choices, in my opinion...\n",
      "710     We've tried many Tassimo flavors.  This is by ...\n",
      "709     This is a bold blend that has a great taste. T...\n",
      "713     Of all the coffee's available for Tassimo this...\n",
      "1362    This coffee supposedly is premium, it tastes w...\n",
      "Name: Text, Length: 4986, dtype: object>\n",
      "(4986,)\n"
     ]
    },
    {
     "name": "stderr",
     "output_type": "stream",
     "text": [
      "100%|██████████| 4986/4986 [00:09<00:00, 529.16it/s]\n"
     ]
    },
    {
     "name": "stdout",
     "output_type": "stream",
     "text": [
      "['Id' 'ProductId' 'UserId' 'ProfileName' 'HelpfulnessNumerator'\n",
      " 'HelpfulnessDenominator' 'Score' 'Time' 'Summary' 'Text' 'CleanedText']\n"
     ]
    }
   ],
   "source": [
    "if not os.path.isfile('final.sqlite'):\n",
    "    i=0\n",
    "    str1=' '\n",
    "    final_string=[]\n",
    "    all_positive_words=[] # store words from +ve reviews here\n",
    "    all_negative_words=[] # store words from -ve reviews here.\n",
    "    s=''\n",
    "    print(final['Text'].head)\n",
    "    print(final['Text'].shape)\n",
    "    for sent in tqdm(final['Text'].values):\n",
    "        filtered_sentence=[]\n",
    "        #print(sent);\n",
    "        sent=cleanhtml(sent) # remove HTMl tags\n",
    "        for w in sent.split():\n",
    "            for cleaned_words in cleanpunc(w).split():\n",
    "                if((cleaned_words.isalpha()) & (len(cleaned_words)>2)): \n",
    "                    #print(\"First If condition Passed\")\n",
    "                    if(cleaned_words.lower() not in stop):\n",
    "                        #print(\"Word is not a stopword\")\n",
    "                        s=(sno.stem(cleaned_words.lower())).encode('utf8')\n",
    "                        #print(s)\n",
    "                        filtered_sentence.append(s)\n",
    "                        # (final['Score'].values)[i] == 'positive': \n",
    "                        if (final['Score'].values)[i] == 1: \n",
    "                            #print(\"Positive word found\")\n",
    "                            all_positive_words.append(s) #list of all words used to describe positive reviews\n",
    "                        #if(final['Score'].values)[i] == 'negative':\n",
    "                        if(final['Score'].values)[i] == 0:\n",
    "                            #print(\"Negative word found\")\n",
    "                            all_negative_words.append(s) #list of all words used to describe negative reviews reviews\n",
    "                    else:\n",
    "                        continue\n",
    "                else:\n",
    "                    continue \n",
    "        #print(filtered_sentence)\n",
    "        str1 = b\" \".join(filtered_sentence) #final string of cleaned words\n",
    "        #str1\n",
    "        #print(\"***********************************************************************\")\n",
    "\n",
    "        final_string.append(str1)\n",
    "        i+=1\n",
    "\n",
    "    #############---- storing the data into .sqlite file ------########################\n",
    "    final['CleanedText']=final_string #adding a column of CleanedText which displays the data after pre-processing of the review \n",
    "    final['CleanedText']=final['CleanedText'].str.decode(\"utf-8\")\n",
    "    #print(final['CleanedText'])\n",
    "    #print(final.shape)\n",
    "    print(final.columns.values)\n",
    "\n",
    "    \n",
    "        # store final table into an SQlLite table for future.\n",
    "    conn = sqlite3.connect('final.sqlite')\n",
    "    c=conn.cursor()\n",
    "    conn.text_factory = str\n",
    "    final.to_sql('Reviews', conn,  schema=None, if_exists='replace', \\\n",
    "                 index=True, index_label=None, chunksize=None, dtype=None)\n",
    "    conn.close()\n",
    "    \n",
    "    \n",
    "    \n",
    "    with open('positive_words.pkl', 'wb') as f:\n",
    "        pickle.dump(all_positive_words, f)\n",
    "    with open('negitive_words.pkl', 'wb') as f:\n",
    "        pickle.dump(all_negative_words, f)\n",
    "\n",
    "#print(all_positive_words)\n",
    "#print(all_negative_words)"
   ]
  },
  {
   "cell_type": "code",
   "execution_count": 15,
   "metadata": {},
   "outputs": [],
   "source": [
    "if os.path.isfile('final.sqlite'):\n",
    "    conn = sqlite3.connect('final.sqlite')\n",
    "    final = pd.read_sql_query(\"\"\" SELECT * FROM Reviews WHERE Score != 3 \"\"\", conn)\n",
    "    conn.close()\n",
    "else:\n",
    "    print(\"Please the above cell\")"
   ]
  },
  {
   "cell_type": "code",
   "execution_count": 16,
   "metadata": {},
   "outputs": [
    {
     "name": "stdout",
     "output_type": "stream",
     "text": [
      "the type of count vectorizer  <class 'scipy.sparse.csr.csr_matrix'>\n",
      "the shape of out text BOW vectorizer  (4986, 8574)\n",
      "the number of unique words  8574\n"
     ]
    }
   ],
   "source": [
    "#BoW\n",
    "count_vect = CountVectorizer() #in scikit-learn\n",
    "final_counts = count_vect.fit_transform(final['CleanedText'].values)\n",
    "#print(final['CleanedText'].head)\n",
    "#print(final_counts[0:2:])\n",
    "print(\"the type of count vectorizer \",type(final_counts))\n",
    "print(\"the shape of out text BOW vectorizer \",final_counts.get_shape())\n",
    "print(\"the number of unique words \", final_counts.get_shape()[1])\n"
   ]
  },
  {
   "cell_type": "code",
   "execution_count": 17,
   "metadata": {},
   "outputs": [
    {
     "name": "stdout",
     "output_type": "stream",
     "text": [
      "Most Common Positive Words :  [(b'like', 1812), (b'tast', 1636), (b'good', 1571), (b'flavor', 1549), (b'love', 1468), (b'great', 1442), (b'use', 1269), (b'product', 1204), (b'one', 1193), (b'tri', 1161), (b'coffe', 1027), (b'food', 1017), (b'chip', 997), (b'make', 982), (b'get', 830), (b'tea', 801), (b'bag', 761), (b'buy', 728), (b'best', 710), (b'eat', 709)]\n",
      "Most Common Negative Words :  [(b'like', 444), (b'tast', 432), (b'product', 399), (b'tri', 282), (b'one', 281), (b'flavor', 271), (b'would', 247), (b'food', 241), (b'use', 231), (b'good', 207), (b'buy', 187), (b'order', 185), (b'tea', 182), (b'chip', 180), (b'bag', 179), (b'get', 179), (b'even', 169), (b'make', 162), (b'box', 161), (b'mix', 155)]\n"
     ]
    }
   ],
   "source": [
    "with open('positive_words.pkl', 'rb') as f:\n",
    "    all_positive_words = pickle.load(f)\n",
    "with open('negitive_words.pkl', 'rb') as f:\n",
    "    all_negative_words = pickle.load(f)\n",
    "    \n",
    "freq_dist_positive=nltk.FreqDist(all_positive_words)\n",
    "freq_dist_negative=nltk.FreqDist(all_negative_words)\n",
    "print(\"Most Common Positive Words : \",freq_dist_positive.most_common(20))\n",
    "print(\"Most Common Negative Words : \",freq_dist_negative.most_common(20))"
   ]
  },
  {
   "cell_type": "code",
   "execution_count": 18,
   "metadata": {},
   "outputs": [
    {
     "name": "stdout",
     "output_type": "stream",
     "text": [
      "(4986, 8574)\n"
     ]
    }
   ],
   "source": [
    "#converting sparse matrix to dense matrix\n",
    "final_counts_dense = final_counts.todense()\n",
    "print(final_counts_dense.shape)"
   ]
  },
  {
   "cell_type": "code",
   "execution_count": 19,
   "metadata": {},
   "outputs": [
    {
     "data": {
      "text/plain": [
       "Text(0.5,1,'TSNE using BoW unigram(Sparse to dense)')"
      ]
     },
     "execution_count": 19,
     "metadata": {},
     "output_type": "execute_result"
    },
    {
     "data": {
      "image/png": "[encoded data removed]",
      "text/plain": [
       "<matplotlib.figure.Figure at 0xe963518>"
      ]
     },
     "metadata": {},
     "output_type": "display_data"
    }
   ],
   "source": [
    "# Plotting TSNE by converting sparse BoW matrix to dense:\n",
    "import seaborn as sn\n",
    "from sklearn.manifold import TSNE\n",
    "\n",
    "# Picking the top 1000 points as TSNE takes a lot of time for 15K points\n",
    "data_1000 = final_counts_dense[0:1000:]\n",
    "#data_1000 = final_counts_svd[0:1000:]\n",
    "#print (standardized_data.head)\n",
    "label = final['Score']\n",
    "labels = label[0:1000]\n",
    "\n",
    "model = TSNE(n_components=2, random_state=0)\n",
    "# configuring the parameteres\n",
    "# the number of components = 2\n",
    "# default perplexity = 30\n",
    "# default learning rate = 200\n",
    "# default Maximum number of iterations for the optimization = 1000\n",
    "\n",
    "tsne_data = model.fit_transform(data_1000)\n",
    "#print(\"passed\")\n",
    "\n",
    "# creating a new data frame which help us in ploting the result data\n",
    "tsne_data = np.vstack((tsne_data.T, labels)).T\n",
    "tsne_df = pd.DataFrame(data=tsne_data, columns=(\"Dim_1\", \"Dim_2\", \"labels\"))\n",
    "#print(tsne_df.head) \n",
    "\n",
    "# Ploting the result of tsne\n",
    "sn.FacetGrid(tsne_df,hue = \"labels\", size=6).map(plt.scatter, 'Dim_1', 'Dim_2').add_legend()\n",
    "plt.title(\"TSNE using BoW unigram(Sparse to dense)\")\n",
    "#plt.show()"
   ]
  },
  {
   "cell_type": "code",
   "execution_count": null,
   "metadata": {},
   "outputs": [],
   "source": [
    "Applying Truncated SVD using 300/500/600 features and calculated explained variance ratio. Based upon high variance, \n",
    "concluded to use 600 features. \n"
   ]
  },
  {
   "cell_type": "code",
   "execution_count": 20,
   "metadata": {},
   "outputs": [
    {
     "name": "stdout",
     "output_type": "stream",
     "text": [
      "(4986, 300)\n",
      "0.7266108383048321\n"
     ]
    }
   ],
   "source": [
    "#Applying Truncated SVD:\n",
    "#choosing 300 features and calculating explained variance ration sum\n",
    "from sklearn.decomposition import TruncatedSVD\n",
    "from sklearn.random_projection import sparse_random_matrix\n",
    "svd = TruncatedSVD(n_components=300)\n",
    "svd.fit(final_counts)  \n",
    "TruncatedSVD(algorithm='randomized', n_components=300, n_iter=7,\n",
    "        random_state=42, tol=0.0)\n",
    "final_counts_svd = svd.fit(final_counts).transform(final_counts)\n",
    "print(final_counts_svd.shape)\n",
    "print(svd.explained_variance_ratio_.sum())"
   ]
  },
  {
   "cell_type": "code",
   "execution_count": null,
   "metadata": {},
   "outputs": [],
   "source": [
    "Observation:\n",
    "    1.Explained variance ration sum is 0.72 for 300 features. Basically, we prefer data with high variance/huge spread. "
   ]
  },
  {
   "cell_type": "code",
   "execution_count": 21,
   "metadata": {},
   "outputs": [
    {
     "name": "stdout",
     "output_type": "stream",
     "text": [
      "(4986, 500)\n",
      "0.8239251309463383\n"
     ]
    }
   ],
   "source": [
    "#Applying Truncated SVD:\n",
    "#choosing 500 features and calculating explained variance ration sum\n",
    "from sklearn.decomposition import TruncatedSVD\n",
    "from sklearn.random_projection import sparse_random_matrix\n",
    "svd = TruncatedSVD(n_components=500)\n",
    "svd.fit(final_counts)  \n",
    "TruncatedSVD(algorithm='randomized', n_components=500, n_iter=7,\n",
    "        random_state=42, tol=0.0)\n",
    "final_counts_svd = svd.fit(final_counts).transform(final_counts)\n",
    "print(final_counts_svd.shape)\n",
    "print(svd.explained_variance_ratio_.sum())\n",
    "\n",
    "\n"
   ]
  },
  {
   "cell_type": "code",
   "execution_count": null,
   "metadata": {},
   "outputs": [],
   "source": [
    "Observation:\n",
    "    By choosing 500 features, Variance ration sum is 0.82, which means, 82% of my data is widely spread."
   ]
  },
  {
   "cell_type": "code",
   "execution_count": 22,
   "metadata": {},
   "outputs": [
    {
     "name": "stdout",
     "output_type": "stream",
     "text": [
      "(4986, 600)\n",
      "0.8547926187037\n"
     ]
    }
   ],
   "source": [
    "#Applying Truncated SVD:\n",
    "#choosing 600 features and calculating explained variance ration sum\n",
    "from sklearn.decomposition import TruncatedSVD\n",
    "from sklearn.random_projection import sparse_random_matrix\n",
    "svd = TruncatedSVD(n_components=600)\n",
    "svd.fit(final_counts)\n",
    "TruncatedSVD(algorithm='randomized', n_components=600, n_iter=7, tol=0.0)\n",
    "final_counts_svd = svd.fit(final_counts).transform(final_counts)\n",
    "print(final_counts_svd.shape)\n",
    "print(svd.explained_variance_ratio_.sum())\n",
    "##print(final_counts_svd[0:1:])\n",
    "\n"
   ]
  },
  {
   "cell_type": "code",
   "execution_count": null,
   "metadata": {
    "scrolled": true
   },
   "outputs": [],
   "source": [
    "Observation:\n",
    "    From the above results, it can be said that 85% data is wide spread. Hence, finalizing 600 as number of components."
   ]
  },
  {
   "cell_type": "code",
   "execution_count": 23,
   "metadata": {},
   "outputs": [
    {
     "data": {
      "text/plain": [
       "Text(0.5,1,'TSNE using BoW unigram(Truncated SVD)')"
      ]
     },
     "execution_count": 23,
     "metadata": {},
     "output_type": "execute_result"
    },
    {
     "data": {
      "image/png": "[encoded data removed]",
      "text/plain": [
       "<matplotlib.figure.Figure at 0xe7f76a0>"
      ]
     },
     "metadata": {},
     "output_type": "display_data"
    }
   ],
   "source": [
    "# Plotting TSNE after Truncated SVD dimensionality reduction\n",
    "import seaborn as sn\n",
    "from sklearn.manifold import TSNE\n",
    "\n",
    "# Picking the top 1000 points as TSNE takes a lot of time for 15K points\n",
    "#data_1000 = final_counts_dense[0:1000:]\n",
    "data_1000 = final_counts_svd[0:1000:]\n",
    "#print (standardized_data.head)\n",
    "label = final['Score']\n",
    "labels = label[0:1000]\n",
    "\n",
    "model = TSNE(n_components=2, random_state=0)\n",
    "# configuring the parameteres\n",
    "# the number of components = 2\n",
    "# default perplexity = 30\n",
    "# default learning rate = 200\n",
    "# default Maximum number of iterations for the optimization = 1000\n",
    "\n",
    "tsne_data = model.fit_transform(data_1000)\n",
    "#print(\"passed\")\n",
    "\n",
    "# creating a new data frame which help us in ploting the result data\n",
    "tsne_data = np.vstack((tsne_data.T, labels)).T\n",
    "tsne_df = pd.DataFrame(data=tsne_data, columns=(\"Dim_1\", \"Dim_2\", \"labels\"))\n",
    "#print(tsne_df.head) \n",
    "\n",
    "# Ploting the result of tsne\n",
    "sn.FacetGrid(tsne_df,hue = \"labels\", size=6).map(plt.scatter, 'Dim_1', 'Dim_2').add_legend()\n",
    "plt.title(\"TSNE using BoW unigram(Truncated SVD)\")\n",
    "#plt.show()"
   ]
  },
  {
   "cell_type": "code",
   "execution_count": 24,
   "metadata": {},
   "outputs": [
    {
     "name": "stdout",
     "output_type": "stream",
     "text": [
      "<bound method NDFrame.head of 0       Why is this $[...] when the same product is av...\n",
      "1       We have used the Victor fly bait for 3 seasons...\n",
      "2       I just received my shipment and could hardly w...\n",
      "3       This was a really good idea and the final prod...\n",
      "4       I'm glad my 45lb cocker/standard poodle puppy ...\n",
      "5       We have been using this food for about 6 month...\n",
      "6       I have nine cats and they are crazy about thes...\n",
      "7       These were shipped out the day after I ordered...\n",
      "8       This mix is probably not something you would w...\n",
      "9       The description of this product is disceptive....\n",
      "10      I bought this same brand from an online Indian...\n",
      "11      I use these to keep my finicky toddler's prote...\n",
      "12      When we get very busy in our home, I like this...\n",
      "13      This company is an American Classic been in bu...\n",
      "14      I love Pico Pica.  It adds some flavor, and it...\n",
      "15      Thank goodness for MexGrocer. We love this Pic...\n",
      "16      This is a very different sauce - nothing like ...\n",
      "17      i found this product doing a search for \"edibl...\n",
      "18      i purchased this item for a cake that called f...\n",
      "19      I have used this product multiple times.  In f...\n",
      "20      I used Super Gold Luster Dust to create the mo...\n",
      "21      This product allows me to make some really big...\n",
      "22      This was a cute, affordable set for my 2 y/o s...\n",
      "23      I only used one green with it's ball, etc. wit...\n",
      "24      <a href=\"http://www.amazon.com/gp/product/B000...\n",
      "25      The Golf \"set\" arrived quickly and was just as...\n",
      "26      With all natural ingredients and no preservati...\n",
      "27      Adzuki ( or Azuki) beans are ment to be used i...\n",
      "28      Good beans.  I can't find these in the grocery...\n",
      "29      their not only good for you but their yummy.th...\n",
      "                              ...                        \n",
      "4956    Carabou Mahogony is the worst tasting cup of c...\n",
      "4957    I ordered the Mahogany Caribou Coffee K-Cups a...\n",
      "4958    my wife and I are avid Keurig coffee fans (wit...\n",
      "4959    This is a serious cup of joe. Yummyness!<br />...\n",
      "4960    this is maybe the greatest coffee ever made.  ...\n",
      "4961    So surprised to find the Taiwan-shaped pineapp...\n",
      "4962    I really like the pineapple shortcakes sold he...\n",
      "4963    I started using <a href=\"http://www.amazon.com...\n",
      "4964    I've been using Lourdes Chimichurri for years ...\n",
      "4965    I absolutely love this product!  I use it on c...\n",
      "4966    I've never had Sunchy Malta before (I drank a ...\n",
      "4967    My item got to my house on time and I was surp...\n",
      "4968    Since being gluten free I've tried all types o...\n",
      "4969    These are not as good at Houston's Samba Grill...\n",
      "4970    I made these recently for a holiday party.  I ...\n",
      "4971    I spent the first five years of my life in Bra...\n",
      "4972    Love this, dont use too much because it is str...\n",
      "4973    This is the best olive oil not for cooking as ...\n",
      "4974    A nearby Fresh and Easy Neighborhood Market st...\n",
      "4975    I can get it at Walmart for $1.78 each or the ...\n",
      "4976    This coffee is really rich, perfect in the mor...\n",
      "4977    Fresh,a great way to get a little chocolate in...\n",
      "4978    THIS TASTE IS BETWEEN SOMETHING LIKE FLAX BREA...\n",
      "4979    I just had a wonderful dinner: Fresh fluke fri...\n",
      "4980    I have tried about 75% of the available T-Disc...\n",
      "4981    This is one of the best choices, in my opinion...\n",
      "4982    We've tried many Tassimo flavors.  This is by ...\n",
      "4983    This is a bold blend that has a great taste. T...\n",
      "4984    Of all the coffee's available for Tassimo this...\n",
      "4985    This coffee supposedly is premium, it tastes w...\n",
      "Name: Text, Length: 4986, dtype: object>\n",
      "(4986,)\n"
     ]
    },
    {
     "name": "stderr",
     "output_type": "stream",
     "text": [
      "100%|██████████| 4986/4986 [00:12<00:00, 405.57it/s]\n"
     ]
    }
   ],
   "source": [
    "if not os.path.isfile('final.sqlite'):\n",
    "    i=0\n",
    "    str1=' '\n",
    "    final_string=[]\n",
    "    all_positive_words=[] # store words from +ve reviews here\n",
    "    all_negative_words=[] # store words from -ve reviews here.\n",
    "    s=''\n",
    "    print(final['Text'].head)\n",
    "    print(final['Text'].shape)\n",
    "    for sent in tqdm(final['Text'].values):\n",
    "        filtered_sentence=[]\n",
    "        #print(sent);\n",
    "        sent=cleanhtml(sent) # remove HTMl tags\n",
    "        for w in sent.split():\n",
    "            for cleaned_words in cleanpunc(w).split():\n",
    "                if((cleaned_words.isalpha()) & (len(cleaned_words)>2)): \n",
    "                    #print(\"First If condition Passed\")\n",
    "                    #if(cleaned_words.lower() not in stop):\n",
    "                        #print(\"Word is not a stopword\")\n",
    "                        s=(sno.stem(cleaned_words.lower())).encode('utf8')\n",
    "                        #print(s)\n",
    "                        filtered_sentence.append(s)\n",
    "                        # (final['Score'].values)[i] == 'positive': \n",
    "                        if (final['Score'].values)[i] == 1: \n",
    "                            #print(\"Positive word found\")\n",
    "                            all_positive_words.append(s) #list of all words used to describe positive reviews\n",
    "                        #if(final['Score'].values)[i] == 'negative':\n",
    "                        if(final['Score'].values)[i] == 0:\n",
    "                            #print(\"Negative word found\")\n",
    "                            all_negative_words.append(s) #list of all words used to describe negative reviews reviews\n",
    "                    #else:\n",
    "                        #continue\n",
    "                else:\n",
    "                    continue \n",
    "        #print(filtered_sentence)\n",
    "        str1 = b\" \".join(filtered_sentence) #final string of cleaned words\n",
    "        #str1\n",
    "        #print(\"***********************************************************************\")\n",
    "\n",
    "        final_string.append(str1)\n",
    "        i+=1\n",
    "\n",
    "    #############---- storing the data into .sqlite file ------########################\n",
    "    final['CleanedText']=final_string #adding a column of CleanedText which displays the data after pre-processing of the review \n",
    "    final['CleanedText']=final['CleanedText'].str.decode(\"utf-8\")\n",
    "    #print(final['CleanedText'])\n",
    "    #print(final.shape)\n",
    "    #print(final.columns.values)\n",
    "\n",
    "    \n",
    "        # store final table into an SQlLite table for future.\n",
    "    conn = sqlite3.connect('final.sqlite')\n",
    "    c=conn.cursor()\n",
    "    conn.text_factory = str\n",
    "    final.to_sql('Reviews', conn,  schema=None, if_exists='replace', \n",
    "                 index=True, index_label=None, chunksize=None, dtype=None)\n",
    "    conn.close()\n",
    "    \n",
    "    \n",
    "    \n",
    "    with open('positive_words.pkl', 'wb') as f:\n",
    "        pickle.dump(all_positive_words, f)\n",
    "    with open('negitive_words.pkl', 'wb') as f:\n",
    "        pickle.dump(all_negative_words, f)\n",
    "\n",
    "#print(all_positive_words)\n",
    "#print(all_negative_words)"
   ]
  },
  {
   "cell_type": "code",
   "execution_count": 25,
   "metadata": {},
   "outputs": [
    {
     "name": "stdout",
     "output_type": "stream",
     "text": [
      "the type of count vectorizer  <class 'scipy.sparse.csr.csr_matrix'>\n",
      "the shape of out text BOW vectorizer  (4986, 127714)\n",
      "the number of unique words including both unigrams and bigrams  127714\n"
     ]
    }
   ],
   "source": [
    "#bi-gram, tri-gram and n-gram\n",
    "\n",
    "#removing stop words like \"not\" should be avoided before building n-grams\n",
    "count_vect = CountVectorizer(ngram_range=(1,2) ) #in scikit-learn\n",
    "final_bigram_counts = count_vect.fit_transform(final['CleanedText'].values)\n",
    "print(\"the type of count vectorizer \",type(final_bigram_counts))\n",
    "print(\"the shape of out text BOW vectorizer \",final_bigram_counts.get_shape())\n",
    "print(\"the number of unique words including both unigrams and bigrams \", final_bigram_counts.get_shape()[1])\n",
    "#print(final['CleanedText'].head)\n",
    "#print(final_bigram_counts.values)"
   ]
  },
  {
   "cell_type": "code",
   "execution_count": 26,
   "metadata": {},
   "outputs": [
    {
     "name": "stdout",
     "output_type": "stream",
     "text": [
      "(4986, 600)\n",
      "0.7056597312311603\n"
     ]
    }
   ],
   "source": [
    "#Applying Truncated SVD:\n",
    "#choosing 600 features and calculating explained variance ration sum\n",
    "from sklearn.decomposition import TruncatedSVD\n",
    "from sklearn.random_projection import sparse_random_matrix\n",
    "final_bigram_counts_svd = TruncatedSVD(n_components=600)\n",
    "svd.fit(final_bigram_counts)\n",
    "TruncatedSVD(algorithm='randomized', n_components=600, n_iter=7, tol=0.0)\n",
    "final_bigram_counts_svd = svd.fit(final_bigram_counts).transform(final_bigram_counts)\n",
    "print(final_bigram_counts_svd.shape)\n",
    "print(svd.explained_variance_ratio_.sum())\n",
    "##print(final_counts_svd[0:1:])"
   ]
  },
  {
   "cell_type": "code",
   "execution_count": null,
   "metadata": {},
   "outputs": [],
   "source": [
    "By choosing 600 features, 70% data is wide spread."
   ]
  },
  {
   "cell_type": "code",
   "execution_count": 27,
   "metadata": {},
   "outputs": [
    {
     "data": {
      "text/plain": [
       "Text(0.5,1,'TSNE for bigram')"
      ]
     },
     "execution_count": 27,
     "metadata": {},
     "output_type": "execute_result"
    },
    {
     "data": {
      "image/png": "[encoded data removed]",
      "text/plain": [
       "<matplotlib.figure.Figure at 0x1184e048>"
      ]
     },
     "metadata": {},
     "output_type": "display_data"
    }
   ],
   "source": [
    "# TSNE for bigram\n",
    "import seaborn as sn\n",
    "from sklearn.manifold import TSNE\n",
    "\n",
    "# Picking the top 1000 points as TSNE takes a lot of time for 15K points\n",
    "#data_1000 = final_counts_dense[0:1000:]\n",
    "data_1000 = final_bigram_counts_svd[0:1000:]\n",
    "#print (standardized_data.head)s\n",
    "label = final['Score']\n",
    "labels = label[0:1000]\n",
    "\n",
    "model = TSNE(n_components=2, random_state=0)\n",
    "# configuring the parameteres\n",
    "# the number of components = 2\n",
    "# default perplexity = 30\n",
    "# default learning rate = 200\n",
    "# default Maximum number of iterations for the optimization = 1000\n",
    "\n",
    "tsne_data = model.fit_transform(data_1000)\n",
    "#print(\"passed\")\n",
    "\n",
    "# creating a new data frame which help us in ploting the result data\n",
    "tsne_data = np.vstack((tsne_data.T, labels)).T\n",
    "tsne_df = pd.DataFrame(data=tsne_data, columns=(\"Dim_1\", \"Dim_2\", \"labels\"))\n",
    "#print(tsne_df.head) \n",
    "\n",
    "# Ploting the result of tsne\n",
    "sn.FacetGrid(tsne_df,hue = \"labels\", size=6).map(plt.scatter, 'Dim_1', 'Dim_2').add_legend()\n",
    "plt.title(\"TSNE for bigram\")\n",
    "#plt.show()"
   ]
  },
  {
   "cell_type": "code",
   "execution_count": 28,
   "metadata": {},
   "outputs": [
    {
     "name": "stdout",
     "output_type": "stream",
     "text": [
      "the type of count vectorizer  <class 'scipy.sparse.csr.csr_matrix'>\n",
      "the shape of out text TFIDF vectorizer  (4986, 148211)\n",
      "the number of unique words including both unigrams and bigrams  148211\n"
     ]
    }
   ],
   "source": [
    "tf_idf_vect = TfidfVectorizer(ngram_range=(1,2))\n",
    "final_tf_idf = tf_idf_vect.fit_transform(final['Text'].values)\n",
    "print(\"the type of count vectorizer \",type(final_tf_idf))\n",
    "print(\"the shape of out text TFIDF vectorizer \",final_tf_idf.get_shape())\n",
    "print(\"the number of unique words including both unigrams and bigrams \", final_tf_idf.get_shape()[1])"
   ]
  },
  {
   "cell_type": "code",
   "execution_count": 29,
   "metadata": {},
   "outputs": [
    {
     "name": "stdout",
     "output_type": "stream",
     "text": [
      "some sample features(unique words in the corpus) ['each dried', 'each drink', 'each eat', 'each evening', 'each feeding', 'each fell', 'each five', 'each flavor', 'each for', 'each fortune']\n"
     ]
    }
   ],
   "source": [
    "features = tf_idf_vect.get_feature_names()\n",
    "print(\"some sample features(unique words in the corpus)\",features[40000:40010])"
   ]
  },
  {
   "cell_type": "code",
   "execution_count": 30,
   "metadata": {},
   "outputs": [
    {
     "data": {
      "text/html": [
       "<div>\n",
       "<style scoped>\n",
       "    .dataframe tbody tr th:only-of-type {\n",
       "        vertical-align: middle;\n",
       "    }\n",
       "\n",
       "    .dataframe tbody tr th {\n",
       "        vertical-align: top;\n",
       "    }\n",
       "\n",
       "    .dataframe thead th {\n",
       "        text-align: right;\n",
       "    }\n",
       "</style>\n",
       "<table border=\"1\" class=\"dataframe\">\n",
       "  <thead>\n",
       "    <tr style=\"text-align: right;\">\n",
       "      <th></th>\n",
       "      <th>feature</th>\n",
       "      <th>tfidf</th>\n",
       "    </tr>\n",
       "  </thead>\n",
       "  <tbody>\n",
       "    <tr>\n",
       "      <th>0</th>\n",
       "      <td>fly bait</td>\n",
       "      <td>0.274736</td>\n",
       "    </tr>\n",
       "    <tr>\n",
       "      <th>1</th>\n",
       "      <td>seasons can</td>\n",
       "      <td>0.274736</td>\n",
       "    </tr>\n",
       "    <tr>\n",
       "      <th>2</th>\n",
       "      <td>for seasons</td>\n",
       "      <td>0.274736</td>\n",
       "    </tr>\n",
       "    <tr>\n",
       "      <th>3</th>\n",
       "      <td>victor</td>\n",
       "      <td>0.262108</td>\n",
       "    </tr>\n",
       "    <tr>\n",
       "      <th>4</th>\n",
       "      <td>bait for</td>\n",
       "      <td>0.262108</td>\n",
       "    </tr>\n",
       "    <tr>\n",
       "      <th>5</th>\n",
       "      <td>the victor</td>\n",
       "      <td>0.262108</td>\n",
       "    </tr>\n",
       "    <tr>\n",
       "      <th>6</th>\n",
       "      <td>victor fly</td>\n",
       "      <td>0.262108</td>\n",
       "    </tr>\n",
       "    <tr>\n",
       "      <th>7</th>\n",
       "      <td>fly</td>\n",
       "      <td>0.246199</td>\n",
       "    </tr>\n",
       "    <tr>\n",
       "      <th>8</th>\n",
       "      <td>seasons</td>\n",
       "      <td>0.246199</td>\n",
       "    </tr>\n",
       "    <tr>\n",
       "      <th>9</th>\n",
       "      <td>bait</td>\n",
       "      <td>0.240521</td>\n",
       "    </tr>\n",
       "    <tr>\n",
       "      <th>10</th>\n",
       "      <td>beat it</td>\n",
       "      <td>0.235720</td>\n",
       "    </tr>\n",
       "    <tr>\n",
       "      <th>11</th>\n",
       "      <td>can beat</td>\n",
       "      <td>0.201504</td>\n",
       "    </tr>\n",
       "    <tr>\n",
       "      <th>12</th>\n",
       "      <td>used the</td>\n",
       "      <td>0.192545</td>\n",
       "    </tr>\n",
       "    <tr>\n",
       "      <th>13</th>\n",
       "      <td>have used</td>\n",
       "      <td>0.186498</td>\n",
       "    </tr>\n",
       "    <tr>\n",
       "      <th>14</th>\n",
       "      <td>beat</td>\n",
       "      <td>0.173265</td>\n",
       "    </tr>\n",
       "    <tr>\n",
       "      <th>15</th>\n",
       "      <td>it great</td>\n",
       "      <td>0.169864</td>\n",
       "    </tr>\n",
       "    <tr>\n",
       "      <th>16</th>\n",
       "      <td>great product</td>\n",
       "      <td>0.154497</td>\n",
       "    </tr>\n",
       "    <tr>\n",
       "      <th>17</th>\n",
       "      <td>we have</td>\n",
       "      <td>0.142644</td>\n",
       "    </tr>\n",
       "    <tr>\n",
       "      <th>18</th>\n",
       "      <td>used</td>\n",
       "      <td>0.109802</td>\n",
       "    </tr>\n",
       "    <tr>\n",
       "      <th>19</th>\n",
       "      <td>we</td>\n",
       "      <td>0.092118</td>\n",
       "    </tr>\n",
       "    <tr>\n",
       "      <th>20</th>\n",
       "      <td>product</td>\n",
       "      <td>0.080693</td>\n",
       "    </tr>\n",
       "    <tr>\n",
       "      <th>21</th>\n",
       "      <td>can</td>\n",
       "      <td>0.077881</td>\n",
       "    </tr>\n",
       "    <tr>\n",
       "      <th>22</th>\n",
       "      <td>great</td>\n",
       "      <td>0.074089</td>\n",
       "    </tr>\n",
       "    <tr>\n",
       "      <th>23</th>\n",
       "      <td>have</td>\n",
       "      <td>0.061395</td>\n",
       "    </tr>\n",
       "    <tr>\n",
       "      <th>24</th>\n",
       "      <td>for</td>\n",
       "      <td>0.051863</td>\n",
       "    </tr>\n",
       "  </tbody>\n",
       "</table>\n",
       "</div>"
      ],
      "text/plain": [
       "          feature     tfidf\n",
       "0        fly bait  0.274736\n",
       "1     seasons can  0.274736\n",
       "2     for seasons  0.274736\n",
       "3          victor  0.262108\n",
       "4        bait for  0.262108\n",
       "5      the victor  0.262108\n",
       "6      victor fly  0.262108\n",
       "7             fly  0.246199\n",
       "8         seasons  0.246199\n",
       "9            bait  0.240521\n",
       "10        beat it  0.235720\n",
       "11       can beat  0.201504\n",
       "12       used the  0.192545\n",
       "13      have used  0.186498\n",
       "14           beat  0.173265\n",
       "15       it great  0.169864\n",
       "16  great product  0.154497\n",
       "17        we have  0.142644\n",
       "18           used  0.109802\n",
       "19             we  0.092118\n",
       "20        product  0.080693\n",
       "21            can  0.077881\n",
       "22          great  0.074089\n",
       "23           have  0.061395\n",
       "24            for  0.051863"
      ]
     },
     "execution_count": 30,
     "metadata": {},
     "output_type": "execute_result"
    }
   ],
   "source": [
    "# source: https://buhrmann.github.io/tfidf-analysis.html\n",
    "def top_tfidf_feats(row, features, top_n=25):\n",
    "    ''' Get top n tfidf values in row and return them with their corresponding feature names.'''\n",
    "    topn_ids = np.argsort(row)[::-1][:top_n]\n",
    "    top_feats = [(features[i], row[i]) for i in topn_ids]\n",
    "    df = pd.DataFrame(top_feats)\n",
    "    df.columns = ['feature', 'tfidf']\n",
    "    return df\n",
    "\n",
    "top_tfidf = top_tfidf_feats(final_tf_idf[1,:].toarray()[0],features,25)\n",
    "top_tfidf"
   ]
  },
  {
   "cell_type": "code",
   "execution_count": 31,
   "metadata": {},
   "outputs": [],
   "source": [
    "# Train your own Word2Vec model using your own text corpus\n",
    "i=0\n",
    "list_of_sent=[]\n",
    "for sent in final['CleanedText'].values:\n",
    "    list_of_sent.append(sent.split())"
   ]
  },
  {
   "cell_type": "code",
   "execution_count": 32,
   "metadata": {},
   "outputs": [
    {
     "name": "stdout",
     "output_type": "stream",
     "text": [
      "whi this when the same product avail for here www amazon com the victor and trap are unreal cours total fli genocid pretti stinki but onli right nearbi\n",
      "*****************************************************************\n",
      "['whi', 'this', 'when', 'the', 'same', 'product', 'avail', 'for', 'here', 'www', 'amazon', 'com', 'the', 'victor', 'and', 'trap', 'are', 'unreal', 'cours', 'total', 'fli', 'genocid', 'pretti', 'stinki', 'but', 'onli', 'right', 'nearbi']\n"
     ]
    }
   ],
   "source": [
    "print(final['CleanedText'].values[0])\n",
    "print(\"*****************************************************************\")\n",
    "print(list_of_sent[0])"
   ]
  },
  {
   "cell_type": "code",
   "execution_count": 33,
   "metadata": {},
   "outputs": [],
   "source": [
    "w2v_model=Word2Vec(list_of_sent,min_count=5,size=50, workers=5)"
   ]
  },
  {
   "cell_type": "code",
   "execution_count": 34,
   "metadata": {},
   "outputs": [
    {
     "name": "stdout",
     "output_type": "stream",
     "text": [
      "number of words that occured minimum 5 times  3037\n",
      "sample words  ['whi', 'this', 'when', 'the', 'same', 'product', 'avail', 'for', 'here', 'www', 'amazon', 'com', 'and', 'trap', 'are', 'cours', 'total', 'fli', 'pretti', 'stinki', 'but', 'onli', 'right', 'nearbi', 'have', 'use', 'season', 'cant', 'beat', 'great', 'just', 'receiv', 'shipment', 'could', 'hard', 'wait', 'tri', 'love', 'which', 'what', 'call', 'them', 'instead', 'sticker', 'becaus', 'they', 'can', 'remov', 'easili', 'daughter']\n"
     ]
    }
   ],
   "source": [
    "w2v_words = list(w2v_model.wv.vocab)\n",
    "print(\"number of words that occured minimum 5 times \",len(w2v_words))\n",
    "print(\"sample words \", w2v_words[0:50])"
   ]
  },
  {
   "cell_type": "code",
   "execution_count": 35,
   "metadata": {},
   "outputs": [
    {
     "data": {
      "text/plain": [
       "[('delici', 0.9748965501785278),\n",
       " ('crunchi', 0.9655242562294006),\n",
       " ('textur', 0.955356240272522),\n",
       " ('crisp', 0.9509963393211365),\n",
       " ('light', 0.9495143294334412),\n",
       " ('salti', 0.9347854256629944),\n",
       " ('soft', 0.9323551654815674),\n",
       " ('low', 0.9311342239379883),\n",
       " ('chewi', 0.9231307506561279),\n",
       " ('crunch', 0.9196618795394897)]"
      ]
     },
     "execution_count": 35,
     "metadata": {},
     "output_type": "execute_result"
    }
   ],
   "source": [
    "w2v_model.wv.most_similar('tasti')"
   ]
  },
  {
   "cell_type": "code",
   "execution_count": 36,
   "metadata": {},
   "outputs": [
    {
     "data": {
      "text/plain": [
       "[('spici', 0.8856682777404785),\n",
       " ('realli', 0.8799726963043213),\n",
       " ('strong', 0.877139687538147),\n",
       " ('bitter', 0.871982216835022),\n",
       " ('tast', 0.8707834482192993),\n",
       " ('doe', 0.8631897568702698),\n",
       " ('not', 0.8614490032196045),\n",
       " ('doesnt', 0.8605141043663025),\n",
       " ('smell', 0.8525605201721191),\n",
       " ('real', 0.8513809442520142)]"
      ]
     },
     "execution_count": 36,
     "metadata": {},
     "output_type": "execute_result"
    }
   ],
   "source": [
    "w2v_model.wv.most_similar('like')"
   ]
  },
  {
   "cell_type": "code",
   "execution_count": null,
   "metadata": {},
   "outputs": [],
   "source": [
    "Above result shows few dissimilar words for like, which may be due to less number of data points chosen as an input"
   ]
  },
  {
   "cell_type": "code",
   "execution_count": 37,
   "metadata": {},
   "outputs": [
    {
     "name": "stderr",
     "output_type": "stream",
     "text": [
      "100%|██████████| 4986/4986 [00:05<00:00, 834.50it/s]\n"
     ]
    },
    {
     "name": "stdout",
     "output_type": "stream",
     "text": [
      "4986\n",
      "50\n"
     ]
    }
   ],
   "source": [
    "# average Word2Vec\n",
    "# compute average word2vec for each review.\n",
    "sent_vectors = []; # the avg-w2v for each sentence/review is stored in this list\n",
    "for sent in tqdm(list_of_sent): # for each review/sentence\n",
    "    sent_vec = np.zeros(50) # as word vectors are of zero length\n",
    "    cnt_words =0; # num of words with a valid vector in the sentence/review\n",
    "    for word in sent: # for each word in a review/sentence\n",
    "        if word in w2v_words:\n",
    "            vec = w2v_model.wv[word]\n",
    "            sent_vec += vec\n",
    "            cnt_words += 1\n",
    "    if cnt_words != 0:\n",
    "        sent_vec /= cnt_words\n",
    "    sent_vectors.append(sent_vec)\n",
    "print(len(sent_vectors))\n",
    "print(len(sent_vectors[0]))"
   ]
  },
  {
   "cell_type": "code",
   "execution_count": 38,
   "metadata": {},
   "outputs": [],
   "source": [
    "# S = [\"abc def pqr\", \"def def def abc\", \"pqr pqr def\"]\n",
    "model = TfidfVectorizer()\n",
    "tf_idf_matrix = model.fit_transform(final['CleanedText'].values)\n",
    "# we are converting a dictionary with word as a key, and the idf as a value\n",
    "dictionary = dict(zip(model.get_feature_names(), list(model.idf_)))"
   ]
  },
  {
   "cell_type": "code",
   "execution_count": 39,
   "metadata": {},
   "outputs": [
    {
     "name": "stderr",
     "output_type": "stream",
     "text": [
      "100%|██████████| 4986/4986 [00:08<00:00, 556.82it/s]\n"
     ]
    }
   ],
   "source": [
    "# TF-IDF weighted Word2Vec\n",
    "tfidf_feat = model.get_feature_names() # tfidf words/col-names\n",
    "# final_tf_idf is the sparse matrix with row= sentence, col=word and cell_val = tfidf\n",
    "\n",
    "tfidf_sent_vectors = []; # the tfidf-w2v for each sentence/review is stored in this list\n",
    "row=0;\n",
    "for sent in tqdm(list_of_sent): # for each review/sentence \n",
    "    sent_vec = np.zeros(50) # as word vectors are of zero length\n",
    "    weight_sum =0; # num of words with a valid vector in the sentence/review\n",
    "    for word in sent: # for each word in a review/sentence\n",
    "        if word in w2v_words:\n",
    "            vec = w2v_model.wv[word]\n",
    "#             tf_idf = tf_idf_matrix[row, tfidf_feat.index(word)]\n",
    "            # to reduce the computation we are \n",
    "            # dictionary[word] = idf value of word in whole courpus\n",
    "            # sent.count(word) = tf valeus of word in this review\n",
    "            tf_idf = dictionary[word]*(sent.count(word)/len(sent))\n",
    "            sent_vec += (vec * tf_idf)\n",
    "            weight_sum += tf_idf\n",
    "    if weight_sum != 0:\n",
    "        sent_vec /= weight_sum\n",
    "    tfidf_sent_vectors.append(sent_vec)\n",
    "    row += 1"
   ]
  },
  {
   "cell_type": "code",
   "execution_count": 40,
   "metadata": {},
   "outputs": [
    {
     "data": {
      "text/plain": [
       "Text(0.5,1,'TSNE for TF-IDF weighted Word2Vec')"
      ]
     },
     "execution_count": 40,
     "metadata": {},
     "output_type": "execute_result"
    },
    {
     "data": {
      "image/png": "[encoded data removed]",
      "text/plain": [
       "<matplotlib.figure.Figure at 0x17556240>"
      ]
     },
     "metadata": {},
     "output_type": "display_data"
    }
   ],
   "source": [
    "# TSNE for TF-IDF weighted Word2Vec\n",
    "import seaborn as sn\n",
    "from sklearn.manifold import TSNE\n",
    "\n",
    "# Picking the top 1000 points as TSNE takes a lot of time for 15K points\n",
    "#data_1000 = final_counts_dense[0:1000:]\n",
    "data_1000 = tfidf_sent_vectors[0:1000:]\n",
    "#print (standardized_data.head)s\n",
    "label = final['Score']\n",
    "labels = label[0:1000]\n",
    "\n",
    "model = TSNE(n_components=2, random_state=0)\n",
    "# configuring the parameteres\n",
    "# the number of components = 2\n",
    "# default perplexity = 30\n",
    "# default learning rate = 200\n",
    "# default Maximum number of iterations for the optimization = 1000\n",
    "\n",
    "tsne_data = model.fit_transform(data_1000)\n",
    "#print(\"passed\")\n",
    "\n",
    "# creating a new data frame which help us in ploting the result data\n",
    "tsne_data = np.vstack((tsne_data.T, labels)).T\n",
    "tsne_df = pd.DataFrame(data=tsne_data, columns=(\"Dim_1\", \"Dim_2\", \"labels\"))\n",
    "#print(tsne_df.head) \n",
    "\n",
    "# Ploting the result of tsne\n",
    "sn.FacetGrid(tsne_df,hue = \"labels\", size=6).map(plt.scatter, 'Dim_1', 'Dim_2').add_legend()\n",
    "plt.title(\"TSNE for TF-IDF weighted Word2Vec\")\n",
    "#plt.show()"
   ]
  },
  {
   "cell_type": "code",
   "execution_count": 41,
   "metadata": {},
   "outputs": [
    {
     "data": {
      "text/plain": [
       "Text(0.5,1,'TSNE using Average W2V model')"
      ]
     },
     "execution_count": 41,
     "metadata": {},
     "output_type": "execute_result"
    },
    {
     "data": {
      "image/png": "[encoded data removed]",
      "text/plain": [
       "<matplotlib.figure.Figure at 0x1755a588>"
      ]
     },
     "metadata": {},
     "output_type": "display_data"
    }
   ],
   "source": [
    "# TSNE for average W2V \n",
    "import seaborn as sn\n",
    "from sklearn.manifold import TSNE\n",
    "\n",
    "# Picking the top 1000 points as TSNE takes a lot of time for 15K points\n",
    "#data_1000 = final_counts_dense[0:1000:]\n",
    "data_1000 = sent_vectors[0:1000:]\n",
    "#print (standardized_data.head)s\n",
    "label = final['Score']\n",
    "labels = label[0:1000]\n",
    "\n",
    "model = TSNE(n_components=2, random_state=0)\n",
    "# configuring the parameteres\n",
    "# the number of components = 2\n",
    "# default perplexity = 30\n",
    "# default learning rate = 200\n",
    "# default Maximum number of iterations for the optimization = 1000\n",
    "\n",
    "tsne_data = model.fit_transform(data_1000)\n",
    "#print(\"passed\")\n",
    "\n",
    "# creating a new data frame which help us in ploting the result data\n",
    "tsne_data = np.vstack((tsne_data.T, labels)).T\n",
    "tsne_df = pd.DataFrame(data=tsne_data, columns=(\"Dim_1\", \"Dim_2\", \"labels\"))\n",
    "#print(tsne_df.head) \n",
    "\n",
    "# Ploting the result of tsne\n",
    "sn.FacetGrid(tsne_df,hue = \"labels\", size=6).map(plt.scatter, 'Dim_1', 'Dim_2').add_legend()\n",
    "plt.title(\"TSNE using Average W2V model\")\n",
    "#plt.show()"
   ]
  },
  {
   "cell_type": "code",
   "execution_count": null,
   "metadata": {},
   "outputs": [],
   "source": [
    "Upon applying TSNE using BoW, bigram, Average W2V and TFIDG weighted W2V techniques, both positive and negative reviews are \n",
    "overlapping. The reviews cannot be visualized into two separate clusters."
   ]
  }
 ],
 "metadata": {
  "kernelspec": {
   "display_name": "Python 3",
   "language": "python",
   "name": "python3"
  },
  "language_info": {
   "codemirror_mode": {
    "name": "ipython",
    "version": 3
   },
   "file_extension": ".py",
   "mimetype": "text/x-python",
   "name": "python",
   "nbconvert_exporter": "python",
   "pygments_lexer": "ipython3",
   "version": "3.6.4"
  }
 },
 "nbformat": 4,
 "nbformat_minor": 2
}
